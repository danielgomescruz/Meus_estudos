{
  "nbformat": 4,
  "nbformat_minor": 0,
  "metadata": {
    "colab": {
      "name": "AlbumDeFigurinhas_dgc.ipynb",
      "provenance": [],
      "include_colab_link": true
    },
    "kernelspec": {
      "display_name": "Python 3",
      "language": "python",
      "name": "python3"
    },
    "language_info": {
      "codemirror_mode": {
        "name": "ipython",
        "version": 3
      },
      "file_extension": ".py",
      "mimetype": "text/x-python",
      "name": "python",
      "nbconvert_exporter": "python",
      "pygments_lexer": "ipython3",
      "version": "3.8.5"
    }
  },
  "cells": [
    {
      "cell_type": "markdown",
      "metadata": {
        "id": "view-in-github",
        "colab_type": "text"
      },
      "source": [
        "<a href=\"https://colab.research.google.com/github/danielgomescruz/Meus_estudos/blob/main/AlbumDeFigurinhas_dgc.ipynb\" target=\"_parent\"><img src=\"https://colab.research.google.com/assets/colab-badge.svg\" alt=\"Open In Colab\"/></a>"
      ]
    },
    {
      "cell_type": "code",
      "metadata": {
        "id": "uOto9vjqkAXU"
      },
      "source": [
        "import numpy as np"
      ],
      "execution_count": null,
      "outputs": []
    },
    {
      "cell_type": "raw",
      "metadata": {
        "id": "hW3PMTrFkAXQ"
      },
      "source": [
        "# PERGUNTAS\n",
        "1. Qual o valor médio investido para completar o álbum nessas condições?\n",
        "2. Quantos pacotes são necessários comprar, em média, para completar o álbum?\n",
        "3. Qual é a distribuição empírica do valor investido para completar o álbum?\n",
        "4. Qual a probabilidade de se gastar menos que R\\$1500,00 para completar o álbum?\n",
        "5. Qual a probabilidade de se gastar mais do que a média para completar o álbum?\n",
        "6. Qual é um intervalo de confiança de 95% para o gasto ao se completar o álbum?\n",
        "7. Qual o valor médio gasto caso se esteja completando o álbum com mais um amigo? \n",
        "8. Qual o valor médio gasto caso se esteja completando o álbum com mais dois amigos? \n"
      ]
    },
    {
      "cell_type": "code",
      "metadata": {
        "id": "QSvYNG8YS60_"
      },
      "source": [
        "#identificar variáveis que serão utilizadas\n",
        "n_album = 212\n",
        "preco_pacote = 4\n",
        "figurinhas_por_pacote = 4\n",
        "preco_album = 10"
      ],
      "execution_count": null,
      "outputs": []
    },
    {
      "cell_type": "code",
      "metadata": {
        "colab": {
          "base_uri": "https://localhost:8080/"
        },
        "id": "iKv3rvVuUcLS",
        "outputId": "8de60b28-538f-4531-de72-1823f1cb2d49"
      },
      "source": [
        "#gerando um album sem figurinhas do tamanho do meu album\n",
        "album = np.zeros(n_album) \n",
        "album"
      ],
      "execution_count": null,
      "outputs": [
        {
          "output_type": "execute_result",
          "data": {
            "text/plain": [
              "array([0., 0., 0., 0., 0., 0., 0., 0., 0., 0., 0., 0., 0., 0., 0., 0., 0.,\n",
              "       0., 0., 0., 0., 0., 0., 0., 0., 0., 0., 0., 0., 0., 0., 0., 0., 0.,\n",
              "       0., 0., 0., 0., 0., 0., 0., 0., 0., 0., 0., 0., 0., 0., 0., 0., 0.,\n",
              "       0., 0., 0., 0., 0., 0., 0., 0., 0., 0., 0., 0., 0., 0., 0., 0., 0.,\n",
              "       0., 0., 0., 0., 0., 0., 0., 0., 0., 0., 0., 0., 0., 0., 0., 0., 0.,\n",
              "       0., 0., 0., 0., 0., 0., 0., 0., 0., 0., 0., 0., 0., 0., 0., 0., 0.,\n",
              "       0., 0., 0., 0., 0., 0., 0., 0., 0., 0., 0., 0., 0., 0., 0., 0., 0.,\n",
              "       0., 0., 0., 0., 0., 0., 0., 0., 0., 0., 0., 0., 0., 0., 0., 0., 0.,\n",
              "       0., 0., 0., 0., 0., 0., 0., 0., 0., 0., 0., 0., 0., 0., 0., 0., 0.,\n",
              "       0., 0., 0., 0., 0., 0., 0., 0., 0., 0., 0., 0., 0., 0., 0., 0., 0.,\n",
              "       0., 0., 0., 0., 0., 0., 0., 0., 0., 0., 0., 0., 0., 0., 0., 0., 0.,\n",
              "       0., 0., 0., 0., 0., 0., 0., 0., 0., 0., 0., 0., 0., 0., 0., 0., 0.,\n",
              "       0., 0., 0., 0., 0., 0., 0., 0.])"
            ]
          },
          "metadata": {
            "tags": []
          },
          "execution_count": 4
        }
      ]
    },
    {
      "cell_type": "code",
      "metadata": {
        "colab": {
          "base_uri": "https://localhost:8080/"
        },
        "id": "-9N3o9R9U1D3",
        "outputId": "572a3284-b9b1-4de8-9c76-389be6793f27"
      },
      "source": [
        "#simulando compra de figurinhas, com 4 figurinhas por pacote\n",
        "pacotinho = np.random.choice(range(n_album), figurinhas_por_pacote)\n",
        "pacotinho"
      ],
      "execution_count": null,
      "outputs": [
        {
          "output_type": "execute_result",
          "data": {
            "text/plain": [
              "array([164, 136, 182,  62])"
            ]
          },
          "metadata": {
            "tags": []
          },
          "execution_count": 5
        }
      ]
    },
    {
      "cell_type": "code",
      "metadata": {
        "colab": {
          "base_uri": "https://localhost:8080/"
        },
        "id": "BeRGex5gZxk0",
        "outputId": "2a576389-4231-462c-e0a2-062bcb225c88"
      },
      "source": [
        "#vai somando quantas figurinhas tem por posição, se > 1 tem figurinha repetida\n",
        "album[pacotinho[0]] += 1 #pacote 1 cola o número sorteado na posição que antes estava zerada no album de zeros\n",
        "album[pacotinho[1]] += 1 #pacote 2 cola o número sorteado na posição que antes estava zerada no album de zeros\n",
        "album[pacotinho[2]] += 1 #pacote 3 cola o número sorteado na posição que antes estava zerada no album de zeros\n",
        "album[pacotinho[3]] += 1 #pacote 4 cola o número sorteado na posição que antes estava zerada no album de zeros\n",
        "album"
      ],
      "execution_count": null,
      "outputs": [
        {
          "output_type": "execute_result",
          "data": {
            "text/plain": [
              "array([0., 0., 0., 0., 0., 0., 0., 0., 0., 0., 0., 0., 0., 0., 0., 0., 0.,\n",
              "       0., 0., 0., 0., 0., 0., 0., 0., 0., 0., 0., 0., 0., 0., 0., 0., 0.,\n",
              "       0., 0., 0., 0., 0., 0., 0., 0., 0., 0., 0., 0., 0., 0., 0., 0., 0.,\n",
              "       0., 0., 0., 0., 0., 0., 0., 0., 0., 0., 0., 1., 0., 0., 0., 0., 0.,\n",
              "       0., 0., 0., 0., 0., 0., 0., 0., 0., 0., 0., 0., 0., 0., 0., 0., 0.,\n",
              "       0., 0., 0., 0., 0., 0., 0., 0., 0., 0., 0., 0., 0., 0., 0., 0., 0.,\n",
              "       0., 0., 0., 0., 0., 0., 0., 0., 0., 0., 0., 0., 0., 0., 0., 0., 0.,\n",
              "       0., 0., 0., 0., 0., 0., 0., 0., 0., 0., 0., 0., 0., 0., 0., 0., 0.,\n",
              "       1., 0., 0., 0., 0., 0., 0., 0., 0., 0., 0., 0., 0., 0., 0., 0., 0.,\n",
              "       0., 0., 0., 0., 0., 0., 0., 0., 0., 0., 0., 1., 0., 0., 0., 0., 0.,\n",
              "       0., 0., 0., 0., 0., 0., 0., 0., 0., 0., 0., 0., 1., 0., 0., 0., 0.,\n",
              "       0., 0., 0., 0., 0., 0., 0., 0., 0., 0., 0., 0., 0., 0., 0., 0., 0.,\n",
              "       0., 0., 0., 0., 0., 0., 0., 0.])"
            ]
          },
          "metadata": {
            "tags": []
          },
          "execution_count": 6
        }
      ]
    },
    {
      "cell_type": "code",
      "metadata": {
        "id": "SC3UkEwiaduF",
        "colab": {
          "base_uri": "https://localhost:8080/"
        },
        "outputId": "523deb42-ba3b-4f69-b31d-9163ed43126b"
      },
      "source": [
        "#se todas as posições estiverem com pelo menos 1 o album estará completo\n",
        "np.all(album >= 1)"
      ],
      "execution_count": null,
      "outputs": [
        {
          "output_type": "execute_result",
          "data": {
            "text/plain": [
              "False"
            ]
          },
          "metadata": {
            "tags": []
          },
          "execution_count": 7
        }
      ]
    },
    {
      "cell_type": "code",
      "metadata": {
        "id": "ogveygcHb_a4",
        "colab": {
          "base_uri": "https://localhost:8080/"
        },
        "outputId": "58af7730-406d-4053-d28d-f1719ecc2708"
      },
      "source": [
        "#agrupando as etapas anteriores e melhorando\n",
        "n_album = 212\n",
        "preco_pacote = 4\n",
        "figurinhas_por_pacote = 4\n",
        "preco_album = 10\n",
        "\n",
        "def SimulaAlbum():\n",
        "    album = np.zeros(n_album) #gerando um album sem figurinhas do tamanho do meu album\n",
        "    qtd_pacotes = 0\n",
        "    \n",
        "    while True:\n",
        "        pacotinho = np.random.choice(range(n_album), 4) #simulando compra de figurinhas, com 4 figurinhas por pacote\n",
        "        qtd_pacotes += 1 #contar quantos pacotes foram comprados\n",
        "\n",
        "        for i in [0, 1, 2, 3]: \n",
        "          album[pacotinho[i]] += 1 #cola as figurinhas na respectiva posição no album\n",
        "\n",
        "        if np.all(album >= 1): #verifica se o album está completo\n",
        "          break\n",
        "            \n",
        "    valor_gasto = qtd_pacotes * preco_pacote + preco_album\n",
        "    return qtd_pacotes, valor_gasto\n",
        "\n",
        "SimulaAlbum()\n"
      ],
      "execution_count": null,
      "outputs": [
        {
          "output_type": "execute_result",
          "data": {
            "text/plain": [
              "(322, 1298)"
            ]
          },
          "metadata": {
            "tags": []
          },
          "execution_count": 8
        }
      ]
    },
    {
      "cell_type": "code",
      "metadata": {
        "colab": {
          "base_uri": "https://localhost:8080/"
        },
        "id": "38WSq0rxjf4r",
        "outputId": "ee3952a1-1894-4c54-a405-ba86e67e7364"
      },
      "source": [
        "simulacoes = 1000\n",
        "\n",
        "def Simulacao(simulacoes):\n",
        "    valores = []\n",
        "    \n",
        "    for i in range(simulacoes):\n",
        "        valores.append(SimulaAlbum()[1])\n",
        "    return valores\n",
        "\n",
        "sim = Simulacao(simulacoes)\n",
        "\n",
        "valor_medio = np.mean(sim)\n",
        "quant_pacotes = (valor_medio - preco_album) / preco_pacote\n",
        "    \n",
        "#1. Qual o valor médio investido para completar o álbum nessas condições?\n",
        "\n",
        "print(f'O valor médio gasto foi para completar o álbum foi R${valor_medio:.2f}.')\n",
        "\n",
        "#2. Quantos pacotes são necessários comprar, em média, para completar o álbum?\n",
        "\n",
        "print(f'Foram necessários {quant_pacotes:.0f} pacotes, em média, para completar o álbum.')\n"
      ],
      "execution_count": null,
      "outputs": [
        {
          "output_type": "stream",
          "text": [
            "O valor médio gasto foi para completar o álbum foi R$1262.14.\n",
            "Foram necessários 313 pacotes, em média, para completar o álbum.\n"
          ],
          "name": "stdout"
        }
      ]
    },
    {
      "cell_type": "code",
      "metadata": {
        "colab": {
          "base_uri": "https://localhost:8080/",
          "height": 283
        },
        "id": "1QbSsiDRkAXb",
        "outputId": "41d8c47a-2d0b-48fe-a536-e31fb8ff9172"
      },
      "source": [
        "#3. Qual é a distribuição empírica do valor investido para completar o álbum?\n",
        "import matplotlib.pyplot as plt\n",
        "\n",
        "plt.hist(sim, bins = 30, density = True, color = 'royalblue', edgecolor = 'black') #histograma\n",
        "plt.title('Distribuição Empírica do Valor Gasto para Completar o Álbum') #título do gráfico\n",
        "plt.show() \n"
      ],
      "execution_count": null,
      "outputs": [
        {
          "output_type": "display_data",
          "data": {
            "image/png": "[encoded data removed]",
            "text/plain": [
              "<Figure size 432x288 with 1 Axes>"
            ]
          },
          "metadata": {
            "tags": [],
            "needs_background": "light"
          }
        }
      ]
    },
    {
      "cell_type": "code",
      "metadata": {
        "colab": {
          "base_uri": "https://localhost:8080/"
        },
        "id": "Fd8JCNz-kAXb",
        "outputId": "d51aa748-1f16-4d35-83f9-f3edebb1f9d8"
      },
      "source": [
        "#4. Qual a probabilidade de se gastar menos que R$1500,00 para completar o álbum?\n",
        "\n",
        "prob1 = (sum(np.array(sim) < 1500 ) / simulacoes) * 100\n",
        "\n",
        "print('A probabilidade de se gastar menos que R$1500,00 é de {:.2f}%.'.format(prob1))\n",
        "\n",
        "#5. Qual a probabilidade de se gastar mais do que a média para completar o álbum?\n",
        "\n",
        "prob2 = (sum(np.array(sim) > np.array(sim).mean()) / simulacoes) * 100\n",
        "\n",
        "print('A probabilidade de se gastar mais do que a média é de {:.2f}%.'.format(prob2))\n"
      ],
      "execution_count": null,
      "outputs": [
        {
          "output_type": "stream",
          "text": [
            "A probabilidade de se gastar menos que R$1500,00 é de 83.20%.\n",
            "A probabilidade de se gastar mais do que a média é de 42.50%.\n"
          ],
          "name": "stdout"
        }
      ]
    },
    {
      "cell_type": "code",
      "metadata": {
        "colab": {
          "base_uri": "https://localhost:8080/"
        },
        "id": "JvwyJzcPkAXc",
        "outputId": "bb9f12fb-03e0-42ca-89f2-5b69f05e3803"
      },
      "source": [
        "#6. Qual é um intervalo de confiança de 95% para o gasto ao se completar o álbum?\n",
        "\n",
        "int_conf = np.quantile(sim, [0.025, 0.975])\n",
        "print('O intervalo de confiança de 95% para o gasto é ({:.2f}, {:.2f}).'.format(int_conf[0], int_conf[1]))"
      ],
      "execution_count": null,
      "outputs": [
        {
          "output_type": "stream",
          "text": [
            "O intervalo de confiança de 95% para o gasto é (882.00, 1926.00).\n"
          ],
          "name": "stdout"
        }
      ]
    },
    {
      "cell_type": "code",
      "metadata": {
        "colab": {
          "base_uri": "https://localhost:8080/"
        },
        "id": "RdTuS3ejkAXc",
        "outputId": "89b923ee-04aa-4cf6-c1ee-7773c703f369"
      },
      "source": [
        "#7. Qual o valor médio gasto caso vc esteja em mais de uma pessoa? \n",
        "\n",
        "n_album = 212\n",
        "preco_pacote = 4\n",
        "figurinhas_por_pacote = 4\n",
        "preco_album = 10\n",
        "\n",
        "def SimulaAlbum(n_pessoas): #qtde de albuns\n",
        "    album = np.zeros(n_album) #gerando um album sem figurinhas do tamanho do meu album\n",
        "    qtd_pacotes = 0\n",
        "    \n",
        "    while True:\n",
        "        pacotinho = np.random.choice(range(n_album), 4) #simulando compra de figurinhas, com 4 figurinhas por pacote\n",
        "        qtd_pacotes += 1 #contar quantos pacotes foram comprados\n",
        "\n",
        "        for i in [0, 1, 2, 3]: \n",
        "          album[pacotinho[i]] += 1 #cola as figurinhas na respectiva posição no album\n",
        "\n",
        "        if np.all(album >= n_pessoas): #verifica se o album está completo\n",
        "          break\n",
        "            \n",
        "    valor_gasto = qtd_pacotes * preco_pacote + preco_album * n_pessoas\n",
        "    valor_gasto_por_album = valor_gasto / n_pessoas\n",
        "    \n",
        "    return  valor_gasto, qtd_pacotes, valor_gasto_por_album\n",
        "\n",
        "SimulaAlbum(2)\n",
        "\n"
      ],
      "execution_count": null,
      "outputs": [
        {
          "output_type": "execute_result",
          "data": {
            "text/plain": [
              "(2140, 530, 1070.0)"
            ]
          },
          "metadata": {
            "tags": []
          },
          "execution_count": 14
        }
      ]
    },
    {
      "cell_type": "code",
      "metadata": {
        "colab": {
          "base_uri": "https://localhost:8080/"
        },
        "id": "YFKrOLJLkAXe",
        "outputId": "acc8dea5-d84b-48da-c53e-705fbb13fae3"
      },
      "source": [
        "simulacoes = 100000\n",
        "n_pessoas = 3\n",
        "\n",
        "def Simulacao(simulacoes):\n",
        "    valores = []\n",
        "    \n",
        "    for i in range(simulacoes):\n",
        "        valores.append(SimulaAlbum(n_pessoas)[0])\n",
        "    return valores\n",
        "\n",
        "sim = Simulacao(simulacoes)\n",
        "#sim = np.array(valores)\n",
        "\n",
        "valor_medio = np.mean(sim) / n_pessoas\n",
        "quant_pacotes = (valor_medio - preco_album) / preco_pacote\n",
        "    \n",
        "# 7. Qual o valor médio gasto caso se esteja completando o álbum com mais um amigo? \n",
        "# 8. Qual o valor médio gasto caso se esteja completando o álbum com mais dois amigos? \n",
        "\n",
        "print(f'O valor médio gasto foi para completar o álbum foi R${valor_medio:.2f} por pessoa.')\n",
        "\n",
        "print(f'Foram necessários {quant_pacotes:.0f} pacotes, em média, para completar o álbum com {n_pessoas} pessoas.')\n"
      ],
      "execution_count": null,
      "outputs": [
        {
          "output_type": "stream",
          "text": [
            "O valor médio gasto foi para completar o álbum foi R$719.66 por pessoa.\n",
            "Foram necessários 177 pacotes, em média, para completar o álbum com 3 pessoas.\n"
          ],
          "name": "stdout"
        }
      ]
    }
  ]
}