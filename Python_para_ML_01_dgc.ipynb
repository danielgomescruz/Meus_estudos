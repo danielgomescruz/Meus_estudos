{
  "nbformat": 4,
  "nbformat_minor": 0,
  "metadata": {
    "colab": {
      "name": "Python_para_ML_01_dgc.ipynb",
      "provenance": [],
      "collapsed_sections": [],
      "include_colab_link": true
    },
    "kernelspec": {
      "name": "python3",
      "display_name": "Python 3"
    }
  },
  "cells": [
    {
      "cell_type": "markdown",
      "metadata": {
        "id": "view-in-github",
        "colab_type": "text"
      },
      "source": [
        "<a href=\"https://colab.research.google.com/github/danielgomescruz/Meus_estudos/blob/main/Python_para_ML_01_dgc.ipynb\" target=\"_parent\"><img src=\"https://colab.research.google.com/assets/colab-badge.svg\" alt=\"Open In Colab\"/></a>"
      ]
    },
    {
      "cell_type": "markdown",
      "metadata": {
        "id": "3tJEOcVuvO9Z"
      },
      "source": [
        "![Capa](https://raw.githubusercontent.com/ricardorocha86/Python-para-Machine-Learning/master/Imagens/capa%20-%20python%20para%20ml%2001.jpg) \n"
      ]
    },
    {
      "cell_type": "markdown",
      "metadata": {
        "id": "oM35UJ-5pDci"
      },
      "source": [
        "# **Python para Machine Learning** - Parte 1"
      ]
    },
    {
      "cell_type": "markdown",
      "metadata": {
        "id": "4NfTY9LJpvkT"
      },
      "source": [
        "Nesse curso, abordaremos os conceitos iniciais da linguagem Python com o foco de utilizá-la para modelagem preditiva e Machine Learning. \n",
        "\n",
        "O Python é uma linguagem de programação interpretada, criada com o propósito de ser o mais simples e legível possível. Foi em 1991 que o holandes Guido Van Rossum presenteou o mundo com essa linguagem e de lá pra cá ela teve uma longa história. Hoje em dia é uma das linguagens mais utilizadas no mundo e possui um papel fundamental no desenvolvimento em Inteligência Artificial/Data Science."
      ]
    },
    {
      "cell_type": "markdown",
      "metadata": {
        "id": "nDlsQrNPpqtf"
      },
      "source": [
        "**Nesse notebook veremos:**\n",
        "1. [Atribuição de Variáveis](#atri)\n",
        "2. [Primeiras Funções](#prim)\n",
        "3. [Operadores Aritméticos](#oper)\n",
        "4. [Comparações e Booleanos](#comp)\n",
        "5. [Condicional IF-ELSE](#cond)\n",
        "6. [Definição de Funções](#defi)\n",
        "7. [Importação de Bibliotecas](#impo)\n",
        "8. [Exercícios](#exer)\n",
        "9. [Assuntos da Próxima Aula](#assu) \n",
        "10. [Links Úteis](#links)\n",
        "11. [Anexo: Zen of Python](#anex)\n"
      ]
    },
    {
      "cell_type": "markdown",
      "metadata": {
        "id": "8kMiWTL0pvFF"
      },
      "source": [
        "## **Atribuição de Variáveis** <a name=\"atri\"></a>"
      ]
    },
    {
      "cell_type": "code",
      "metadata": {
        "id": "dwHX8egGBuTc",
        "colab": {
          "base_uri": "https://localhost:8080/"
        },
        "outputId": "68f9c41a-147b-46f3-ab38-d8ea87c836c0"
      },
      "source": [
        "meu_nome = 'Daniel'\n",
        "meu_sobrenome = 'Cruz'\n",
        "meu_produto = \"Caixa d'agua\"\n",
        "minha_frase = '\"Vamos que vamos!\"'\n",
        "\n",
        "print(meu_nome)\n",
        "print(meu_sobrenome)\n",
        "print(meu_produto)\n",
        "print(minha_frase)"
      ],
      "execution_count": 1,
      "outputs": [
        {
          "output_type": "stream",
          "text": [
            "Daniel\n",
            "Cruz\n",
            "Caixa d'agua\n",
            "\"Vamos que vamos!\"\n"
          ],
          "name": "stdout"
        }
      ]
    },
    {
      "cell_type": "markdown",
      "metadata": {
        "id": "zXKWnv0wrllN"
      },
      "source": [
        "Soma de duas varíaveis do tipo string\n"
      ]
    },
    {
      "cell_type": "code",
      "metadata": {
        "id": "Bqnflhqfrk4h",
        "colab": {
          "base_uri": "https://localhost:8080/",
          "height": 36
        },
        "outputId": "111cc0ed-5d86-44c5-9d62-666171a4d073"
      },
      "source": [
        "meu_nome + meu_sobrenome"
      ],
      "execution_count": 2,
      "outputs": [
        {
          "output_type": "execute_result",
          "data": {
            "application/vnd.google.colaboratory.intrinsic+json": {
              "type": "string"
            },
            "text/plain": [
              "'DanielCruz'"
            ]
          },
          "metadata": {
            "tags": []
          },
          "execution_count": 2
        }
      ]
    },
    {
      "cell_type": "code",
      "metadata": {
        "id": "xBT9RtP3ryFq",
        "colab": {
          "base_uri": "https://localhost:8080/",
          "height": 36
        },
        "outputId": "03ac53d5-0cc6-4122-c957-0d53eb74b9af"
      },
      "source": [
        "meu_nome + ' ' + meu_sobrenome"
      ],
      "execution_count": 3,
      "outputs": [
        {
          "output_type": "execute_result",
          "data": {
            "application/vnd.google.colaboratory.intrinsic+json": {
              "type": "string"
            },
            "text/plain": [
              "'Daniel Cruz'"
            ]
          },
          "metadata": {
            "tags": []
          },
          "execution_count": 3
        }
      ]
    },
    {
      "cell_type": "markdown",
      "metadata": {
        "id": "a_tw5S1Hq0Ep"
      },
      "source": [
        "Não é possível atribuir variáveis com nomes começando com números, nem com espaços no nome ou com aspas. "
      ]
    },
    {
      "cell_type": "code",
      "metadata": {
        "id": "u3HvQ2e_YxID"
      },
      "source": [
        "# 1_a = 2\n",
        "# var com espaco = 2\n",
        "# a'd = 12 "
      ],
      "execution_count": null,
      "outputs": []
    },
    {
      "cell_type": "markdown",
      "metadata": {
        "id": "nWqVaqeBrAb_"
      },
      "source": [
        "OBS.: O **hashtag #** na frente de uma linha torna ela um **comentário**, pois o interpretador ignora tudo que vem depois dela "
      ]
    },
    {
      "cell_type": "markdown",
      "metadata": {
        "id": "38emYI_xJqeO"
      },
      "source": [
        "## **Primeiras Funções** <a name=\"prim\"></a>"
      ]
    },
    {
      "cell_type": "markdown",
      "metadata": {
        "id": "7JyT6165pi6l"
      },
      "source": [
        "Conheça a função **len**, que retorna o tamanho de uma string (e de outros tipos de objetos também).\n",
        "\n",
        "A função **type**, que retorna o tipo do objeto na variável de entrada\n",
        "\n",
        "A função **round**, que arredonda um número de acordo com as casas decimas desejadas\n",
        "\n",
        "E a função **help**, que retorna a documentação da função inserida como entrada."
      ]
    },
    {
      "cell_type": "code",
      "metadata": {
        "id": "CNTROt8rb4Lg",
        "colab": {
          "base_uri": "https://localhost:8080/"
        },
        "outputId": "0e461135-a345-4a1a-a2c3-160091965175"
      },
      "source": [
        "nome = 'Daniel'\n",
        "len(nome)"
      ],
      "execution_count": 4,
      "outputs": [
        {
          "output_type": "execute_result",
          "data": {
            "text/plain": [
              "6"
            ]
          },
          "metadata": {
            "tags": []
          },
          "execution_count": 4
        }
      ]
    },
    {
      "cell_type": "code",
      "metadata": {
        "id": "MAO1YA7ywWfa",
        "colab": {
          "base_uri": "https://localhost:8080/"
        },
        "outputId": "c863c9e4-86eb-44f0-bdb2-d51adb44d585"
      },
      "source": [
        "type(nome) "
      ],
      "execution_count": 5,
      "outputs": [
        {
          "output_type": "execute_result",
          "data": {
            "text/plain": [
              "str"
            ]
          },
          "metadata": {
            "tags": []
          },
          "execution_count": 5
        }
      ]
    },
    {
      "cell_type": "code",
      "metadata": {
        "id": "hVwnbtKYJ8YU",
        "colab": {
          "base_uri": "https://localhost:8080/"
        },
        "outputId": "4fecedba-0c4c-4cd0-a5c0-8bb3c45900ef"
      },
      "source": [
        "idade = 44.333\n",
        "round(idade, 2)"
      ],
      "execution_count": 6,
      "outputs": [
        {
          "output_type": "execute_result",
          "data": {
            "text/plain": [
              "44.33"
            ]
          },
          "metadata": {
            "tags": []
          },
          "execution_count": 6
        }
      ]
    },
    {
      "cell_type": "code",
      "metadata": {
        "id": "9o2s8MOIKTCT",
        "colab": {
          "base_uri": "https://localhost:8080/"
        },
        "outputId": "cf1714d9-5b26-433d-ee20-4cc2c544f777"
      },
      "source": [
        "help(round)"
      ],
      "execution_count": 7,
      "outputs": [
        {
          "output_type": "stream",
          "text": [
            "Help on built-in function round in module builtins:\n",
            "\n",
            "round(number, ndigits=None)\n",
            "    Round a number to a given precision in decimal digits.\n",
            "    \n",
            "    The return value is an integer if ndigits is omitted or None.  Otherwise\n",
            "    the return value has the same type as the number.  ndigits may be negative.\n",
            "\n"
          ],
          "name": "stdout"
        }
      ]
    },
    {
      "cell_type": "markdown",
      "metadata": {
        "id": "ZH4vZ7NtI5Jx"
      },
      "source": [
        "Não só no Python, mas em programação em geral, sempre precisamos controlar o tipo das variáveis que utilizamos. Veja o exemplo abaixo:"
      ]
    },
    {
      "cell_type": "code",
      "metadata": {
        "id": "DvKNUkrPIlDt",
        "colab": {
          "base_uri": "https://localhost:8080/"
        },
        "outputId": "5c6a1741-f2d8-4ce5-924a-4470c1cbd69b"
      },
      "source": [
        "minha_idade = '40'\n",
        "type(minha_idade)\n"
      ],
      "execution_count": 8,
      "outputs": [
        {
          "output_type": "execute_result",
          "data": {
            "text/plain": [
              "str"
            ]
          },
          "metadata": {
            "tags": []
          },
          "execution_count": 8
        }
      ]
    },
    {
      "cell_type": "markdown",
      "metadata": {
        "id": "fyCVd6Tov_ao"
      },
      "source": [
        "Usando a função **int** para converter a variável em formato string para o formato inteiro"
      ]
    },
    {
      "cell_type": "code",
      "metadata": {
        "id": "svsiydRLv8vT",
        "colab": {
          "base_uri": "https://localhost:8080/"
        },
        "outputId": "82cdf8a7-f0a4-48d2-f4a4-23a475015427"
      },
      "source": [
        "\n",
        "minha_idade = int(minha_idade)\n",
        "type(minha_idade)"
      ],
      "execution_count": 9,
      "outputs": [
        {
          "output_type": "execute_result",
          "data": {
            "text/plain": [
              "int"
            ]
          },
          "metadata": {
            "tags": []
          },
          "execution_count": 9
        }
      ]
    },
    {
      "cell_type": "markdown",
      "metadata": {
        "id": "RbEdJeDVysFT"
      },
      "source": [
        "E a função **str** para converter um objeto para string"
      ]
    },
    {
      "cell_type": "code",
      "metadata": {
        "id": "w7PobqiNyv9u",
        "colab": {
          "base_uri": "https://localhost:8080/"
        },
        "outputId": "b82c5dec-c581-4e3c-8f40-4adf1bd74bb5"
      },
      "source": [
        "minha_idade = str(minha_idade)\n",
        "type(minha_idade)"
      ],
      "execution_count": 10,
      "outputs": [
        {
          "output_type": "execute_result",
          "data": {
            "text/plain": [
              "str"
            ]
          },
          "metadata": {
            "tags": []
          },
          "execution_count": 10
        }
      ]
    },
    {
      "cell_type": "markdown",
      "metadata": {
        "id": "PUH_pzLDJa4Q"
      },
      "source": [
        "## **Operadores Aritméticos** <a name=\"oper\"></a>"
      ]
    },
    {
      "cell_type": "markdown",
      "metadata": {
        "id": "bS7hxv-Codpz"
      },
      "source": [
        "Confira na tabela abaixo como funcionam os operadores aritméticos em Python. \n",
        "\n",
        "Em especial, veja que a sintaxe da exponenciação não é feita através do sinal '^'."
      ]
    },
    {
      "cell_type": "markdown",
      "metadata": {
        "id": "mHsbgk0UGIaL"
      },
      "source": [
        "| Operator     | Name           | Description                                            |\n",
        "|--------------|----------------|--------------------------------------------------------|\n",
        "| ``a + b``    | Adiçao       | Soma entre ``a`` e ``b``                                 |\n",
        "| ``a - b``    | Subtração    | Diferença entre ``a`` e ``b``                          |\n",
        "| ``a * b``    | Multiplicação | Produto entre ``a`` e ``b``                             |\n",
        "| ``a / b``    | Divisão  | Divisão usual entre ``a`` e ``b``                            |\n",
        "| ``a // b``   | Divisão inteira | A divisão entre ``a`` e ``b``, removendo as partes decimais |\n",
        "| ``a % b``    | Resto da divisão        | O resto da divisão inteira de ``a`` por ``b``     |\n",
        "| ``a ** b``   | Exponenciação | ``a`` elevado a ``b``                     |\n",
        "| ``-a``       | Negação       | O negativo de ``a``                                  |"
      ]
    },
    {
      "cell_type": "code",
      "metadata": {
        "id": "xZVTqDzUGWlj"
      },
      "source": [
        "a = 7\n",
        "b = 2"
      ],
      "execution_count": 11,
      "outputs": []
    },
    {
      "cell_type": "code",
      "metadata": {
        "id": "T9gTYGKo31B4",
        "colab": {
          "base_uri": "https://localhost:8080/"
        },
        "outputId": "77ae0e70-5b8b-458e-9ad1-c030a974df8d"
      },
      "source": [
        "print(a + b)\n",
        "print(a - b)\n",
        "print(a * b)\n",
        "print(a / b)\n",
        "print(a // b)\n",
        "print(a % b)\n",
        "print(a ** b)\n",
        "print(-a)"
      ],
      "execution_count": 12,
      "outputs": [
        {
          "output_type": "stream",
          "text": [
            "9\n",
            "5\n",
            "14\n",
            "3.5\n",
            "3\n",
            "1\n",
            "49\n",
            "-7\n"
          ],
          "name": "stdout"
        }
      ]
    },
    {
      "cell_type": "markdown",
      "metadata": {
        "id": "BgFHWhOOsbv0"
      },
      "source": [
        "Temos também as funções **min**, **max** e **abs**, para calcular, respectivamente, o mínimo, o máximo e o valor absoluto de um número"
      ]
    },
    {
      "cell_type": "code",
      "metadata": {
        "id": "FLOeFbsZGcx2",
        "colab": {
          "base_uri": "https://localhost:8080/"
        },
        "outputId": "90163b18-507a-4d89-c433-d16bb6580bb3"
      },
      "source": [
        "print(max(a, b))\n",
        "print(min(a, b))\n",
        "print(abs(-a))"
      ],
      "execution_count": 13,
      "outputs": [
        {
          "output_type": "stream",
          "text": [
            "7\n",
            "2\n",
            "7\n"
          ],
          "name": "stdout"
        }
      ]
    },
    {
      "cell_type": "markdown",
      "metadata": {
        "id": "Lh6dGL01YdHZ"
      },
      "source": [
        "## **Comparações e Booleanos** <a name=\"comp\"></a>"
      ]
    },
    {
      "cell_type": "markdown",
      "metadata": {
        "id": "zJGYOSKzn62F"
      },
      "source": [
        "Quando comparamos objetos em Python é como se estivéssemos fazendo uma pergunta a ele. Duas variáveis são iguais? Uma é maior que a outra? \n",
        "\n",
        "E a resposta é um objeto do tipo **booleano**, que é indicado por **True** ou **False**, indicando, respectivamente, se a resposta é verdadeira ou falsa."
      ]
    },
    {
      "cell_type": "code",
      "metadata": {
        "id": "h13Wb-T0YoL8",
        "colab": {
          "base_uri": "https://localhost:8080/"
        },
        "outputId": "308405d9-f14d-4285-c07e-3c105a37709b"
      },
      "source": [
        "var1 = 40\n",
        "var2 = 37\n",
        "\n",
        "var1 == var2"
      ],
      "execution_count": 14,
      "outputs": [
        {
          "output_type": "execute_result",
          "data": {
            "text/plain": [
              "False"
            ]
          },
          "metadata": {
            "tags": []
          },
          "execution_count": 14
        }
      ]
    },
    {
      "cell_type": "code",
      "metadata": {
        "id": "J_u74wBhZDJ6",
        "colab": {
          "base_uri": "https://localhost:8080/"
        },
        "outputId": "0f7b63c4-7676-4520-cf57-c1f876fa4add"
      },
      "source": [
        "var1 > var2"
      ],
      "execution_count": 15,
      "outputs": [
        {
          "output_type": "execute_result",
          "data": {
            "text/plain": [
              "True"
            ]
          },
          "metadata": {
            "tags": []
          },
          "execution_count": 15
        }
      ]
    },
    {
      "cell_type": "code",
      "metadata": {
        "id": "sVC_1dfjZFu5",
        "colab": {
          "base_uri": "https://localhost:8080/"
        },
        "outputId": "b60a3e5c-e19c-476c-9952-1be0c01131dd"
      },
      "source": [
        "var1 <= var2"
      ],
      "execution_count": 16,
      "outputs": [
        {
          "output_type": "execute_result",
          "data": {
            "text/plain": [
              "False"
            ]
          },
          "metadata": {
            "tags": []
          },
          "execution_count": 16
        }
      ]
    },
    {
      "cell_type": "code",
      "metadata": {
        "id": "W_tNf7CldSvp",
        "colab": {
          "base_uri": "https://localhost:8080/"
        },
        "outputId": "a2513cd3-91c7-4500-cb9f-8a7421834f63"
      },
      "source": [
        "print(type(33.2) == str)\n",
        "print(type(33.2) == int)\n",
        "print(type(33.2) == float)"
      ],
      "execution_count": 17,
      "outputs": [
        {
          "output_type": "stream",
          "text": [
            "False\n",
            "False\n",
            "True\n"
          ],
          "name": "stdout"
        }
      ]
    },
    {
      "cell_type": "markdown",
      "metadata": {
        "id": "SF6EtbmrZQO3"
      },
      "source": [
        "## **Condicional IF-ELSE** <a name=\"cond\"></a>"
      ]
    },
    {
      "cell_type": "markdown",
      "metadata": {
        "id": "t9WtbCPDAWkW"
      },
      "source": [
        "Veja abaixo como funciona a estrutura geral de condicionais no Python. \n",
        "\n",
        "Temos a versão IF ELSE, e a versão IF ELIF ELSE.\n",
        "\n",
        "Note que é possível utilizar o ELIF várias vezes se necessário.\n",
        "\n",
        "No espaço de condição, o Python espera um objeto booleano. Se for True, ele executa, se for False, segue adiante. \n",
        "\n",
        "Note também a estrutura de identação do Python. Aqui não usamos (), [] ou {} para estipular o que deve ser executado nas condicionais. Simplesmente colocamos o código que deve ser executado na linha seguinte, mas identado. Em geral, se utiliza o espaço de **1 tab**."
      ]
    },
    {
      "cell_type": "code",
      "metadata": {
        "id": "kuqS_I9GdobX"
      },
      "source": [
        "# sintaxe IF-ELSE geral\n",
        "if condição:\n",
        "    executa aqui\n",
        "else:\n",
        "    executa aqui\n",
        "\n",
        "# sintaxe IF-ELIF-ELSE geral\n",
        "if condição:\n",
        "    executa aqui\n",
        "elif outra_condição:\n",
        "    executa aqui\n",
        "else:\n",
        "    executa aqui\n",
        "\n",
        "#não executar essa célula!"
      ],
      "execution_count": null,
      "outputs": []
    },
    {
      "cell_type": "code",
      "metadata": {
        "id": "X7Fw4opvdznZ",
        "colab": {
          "base_uri": "https://localhost:8080/"
        },
        "outputId": "d7319a8e-7ddb-4087-dfba-71f135a9b6ac"
      },
      "source": [
        "a, b, c = 1, -2 , 0\n",
        "\n",
        "delta = b**2 - 4*a*c\n",
        "\n",
        "if delta > 0:\n",
        "    x1 = (-b + delta**0.5)/(2*a)\n",
        "    x2 = (-b - delta**0.5)/(2*a)\n",
        "    print('As raízes são {} e {}'.format(x1, x2))\n",
        "elif delta == 0:\n",
        "    x = -b/(2*a)\n",
        "    print('A única raíz é {}'.format(x))\n",
        "else:\n",
        "    print('Não há soluções reais para essa equação')"
      ],
      "execution_count": 18,
      "outputs": [
        {
          "output_type": "stream",
          "text": [
            "As raízes são 2.0 e 0.0\n"
          ],
          "name": "stdout"
        }
      ]
    },
    {
      "cell_type": "markdown",
      "metadata": {
        "id": "3K7wNqEIembT"
      },
      "source": [
        "## **Definição de Funções** <a name=\"defi\"></a>"
      ]
    },
    {
      "cell_type": "markdown",
      "metadata": {
        "id": "jEMYVdTLlf5t"
      },
      "source": [
        "Uma função é um recurso para não precisarmos repetir o mesmo código desnecessariamente. Assim como as funções da matemática, sua tarefa é transformar um input, uma entrada, uma coleção de variáveis, em uma saída, um output. \n",
        "\n",
        "No exemplo abaixo, utilizamos como variáveis o tipo de símbolo e o tamanho da linha que queremos fazer. Você entenderá melhor vendo o exemplo:\n",
        "\n",
        "Da mesma maneira que na estrutura de condicionais, o conteúdo de uma função fica nas linhas seguintes sendo indicados pela **indentação** do código"
      ]
    },
    {
      "cell_type": "code",
      "metadata": {
        "id": "VQ-INeRi6tTG"
      },
      "source": [
        "def Mensagem(simbolo = '*', tamanho = 51):\n",
        "    print(simbolo * tamanho)\n",
        "    print('Estamos só começando, o melhor ainda estar por vir!')\n",
        "    print(simbolo * tamanho)"
      ],
      "execution_count": 21,
      "outputs": []
    },
    {
      "cell_type": "code",
      "metadata": {
        "id": "YLiKW1mVu3B2",
        "colab": {
          "base_uri": "https://localhost:8080/"
        },
        "outputId": "6466f899-4400-40cc-f63a-11541ff6c9b7"
      },
      "source": [
        "Mensagem('-', 51)  "
      ],
      "execution_count": 22,
      "outputs": [
        {
          "output_type": "stream",
          "text": [
            "---------------------------------------------------\n",
            "Estamos só começando, o melhor ainda estar por vir!\n",
            "---------------------------------------------------\n"
          ],
          "name": "stdout"
        }
      ]
    },
    {
      "cell_type": "code",
      "metadata": {
        "id": "Bh8kgefAu7E7",
        "colab": {
          "base_uri": "https://localhost:8080/"
        },
        "outputId": "4f284144-3939-43c8-c5d9-e5ab07c56edd"
      },
      "source": [
        "Mensagem('*-*', 17)"
      ],
      "execution_count": 23,
      "outputs": [
        {
          "output_type": "stream",
          "text": [
            "*-**-**-**-**-**-**-**-**-**-**-**-**-**-**-**-**-*\n",
            "Estamos só começando, o melhor ainda estar por vir!\n",
            "*-**-**-**-**-**-**-**-**-**-**-**-**-**-**-**-**-*\n"
          ],
          "name": "stdout"
        }
      ]
    },
    {
      "cell_type": "markdown",
      "metadata": {
        "id": "s8XyjoLsmZB3"
      },
      "source": [
        "Voltando no exemplo da fórmula de Bhaskara, fica bem conveniente quando colocamos no formato de função, para analisar as saídas de maneira mais prática. "
      ]
    },
    {
      "cell_type": "code",
      "metadata": {
        "id": "9s_3C-ZrgKPb"
      },
      "source": [
        "def Bhaskara(a, b, c):\n",
        "    # dando uma resposta adequada para quando o valor de a for igual a zero\n",
        "    if a == 0:\n",
        "        print('Quando a = 0 não se aplica Bhaskara')\n",
        "    else:\n",
        "        delta = b**2 - 4*a*c\n",
        "\n",
        "        if delta > 0:\n",
        "            x1 = (-b + delta**0.5)/(2*a)\n",
        "            x2 = (-b - delta**0.5)/(2*a)\n",
        "            print('As raízes são {} e {}'.format(round(x1, 2), round(x2, 2)))\n",
        "        elif delta == 0:\n",
        "            x = -b/(2*a)\n",
        "            print('A única raíz é {}'.format(x))\n",
        "        else:\n",
        "            print('Não há soluções reais para essa equação')"
      ],
      "execution_count": 24,
      "outputs": []
    },
    {
      "cell_type": "code",
      "metadata": {
        "id": "zs9zyfICgddJ",
        "colab": {
          "base_uri": "https://localhost:8080/"
        },
        "outputId": "0598ad87-4938-4b4a-bd9a-4240da481e2c"
      },
      "source": [
        "Bhaskara(3, 2, 0.9)"
      ],
      "execution_count": 25,
      "outputs": [
        {
          "output_type": "stream",
          "text": [
            "Não há soluções reais para essa equação\n"
          ],
          "name": "stdout"
        }
      ]
    },
    {
      "cell_type": "code",
      "metadata": {
        "id": "Q9DIe2akvNjC",
        "colab": {
          "base_uri": "https://localhost:8080/"
        },
        "outputId": "016af7eb-121c-4a64-a2d0-8581004c74d7"
      },
      "source": [
        "Bhaskara(-3, 2, 0.9)"
      ],
      "execution_count": 26,
      "outputs": [
        {
          "output_type": "stream",
          "text": [
            "As raízes são -0.31 e 0.97\n"
          ],
          "name": "stdout"
        }
      ]
    },
    {
      "cell_type": "code",
      "metadata": {
        "id": "ngQ_4XV8vOKj",
        "colab": {
          "base_uri": "https://localhost:8080/"
        },
        "outputId": "86c89f2c-9b9b-4a18-f0c9-478ee1a835d8"
      },
      "source": [
        "Bhaskara(1, -2, 1)"
      ],
      "execution_count": 27,
      "outputs": [
        {
          "output_type": "stream",
          "text": [
            "A única raíz é 1.0\n"
          ],
          "name": "stdout"
        }
      ]
    },
    {
      "cell_type": "markdown",
      "metadata": {
        "id": "9vmnCWv9mNwX"
      },
      "source": [
        "## **Importação de Bibliotecas** <a name=\"impo\"></a>"
      ]
    },
    {
      "cell_type": "code",
      "metadata": {
        "id": "JuvRAAl0mTD8"
      },
      "source": [
        "from math import pi\n",
        "print(pi)"
      ],
      "execution_count": null,
      "outputs": []
    },
    {
      "cell_type": "code",
      "metadata": {
        "id": "HoE-Zyp5ma7S",
        "colab": {
          "base_uri": "https://localhost:8080/"
        },
        "outputId": "92f5acf5-e15d-45bb-f74f-531cafefde29"
      },
      "source": [
        "import math\n",
        "print(math.pi)"
      ],
      "execution_count": 29,
      "outputs": [
        {
          "output_type": "stream",
          "text": [
            "3.141592653589793\n"
          ],
          "name": "stdout"
        }
      ]
    },
    {
      "cell_type": "code",
      "metadata": {
        "id": "tCtUvjfY6Nbw",
        "colab": {
          "base_uri": "https://localhost:8080/"
        },
        "outputId": "c9da8bda-171a-4426-cfe4-692238fa5134"
      },
      "source": [
        "import math as m\n",
        "print(m.pi)"
      ],
      "execution_count": 30,
      "outputs": [
        {
          "output_type": "stream",
          "text": [
            "3.141592653589793\n"
          ],
          "name": "stdout"
        }
      ]
    },
    {
      "cell_type": "markdown",
      "metadata": {
        "id": "r1X1E_zEge7K"
      },
      "source": [
        "## **Exercícios** <a name=\"exer\"></a>\n",
        "\n",
        "1. Considere um balde cuja base possui raio  $r_1$ e altura igual ao diâmetro da base. Considere também uma esfera de raio $r_2$ cheia de água. Faça um programa que verifique se o volume da esfera cabe no balde, dados os valores de $r_1$ e $r_2$. \n",
        "\n",
        "2. Crie uma função que simule o jogo do *jokempô*, isto é, dada a entrada de dois jogadores, retorne a indicação de qual deles venceu. "
      ]
    },
    {
      "cell_type": "markdown",
      "metadata": {
        "id": "ClqLxTV3Euys"
      },
      "source": [
        "## **Assuntos da Próxima Aula** <a name=\"assu\"></a>\n",
        "\n",
        "- Listas e Tuplas\n",
        "- Dicionários\n",
        "- Loops FOR e WHILE\n",
        "- Funções e métodos"
      ]
    },
    {
      "cell_type": "markdown",
      "metadata": {
        "id": "nSJC-C50lrdi"
      },
      "source": [
        " ## **Links Úteis** <a name=\"links\"></a>"
      ]
    },
    {
      "cell_type": "markdown",
      "metadata": {
        "id": "qvCE4Gnglshy"
      },
      "source": [
        "1. [Documentação do Python](https://docs.python.org/3/)\n",
        "2. [Download do Anaconda](https://anaconda.org/)\n",
        "3. [Curso do Gustavo Guanabara no YouTube (Canal Curso em Vídeo)](https://www.youtube.com/watch?v=S9uPNppGsGo&list=PLvE-ZAFRgX8hnECDn1v9HNTI71veL3oW0)\n",
        "4. [Curso de Python gratuito do Kaggle (inglês)](https://www.kaggle.com/learn/python)\n",
        "5. [Conceitos de Python em 40min por Derek Banas (inglês)](https://www.youtube.com/watch?v=N4mEzFDjqtA) \n"
      ]
    },
    {
      "cell_type": "markdown",
      "metadata": {
        "id": "UE-KpVQlpZYZ"
      },
      "source": [
        "## **Anexo** <a name=\"anex\"></a>\n",
        "\n",
        "### **The Zen of Python, por Tim Peters**\n",
        "\n",
        "É um conjunto de regras pela qual o Python é idealizado.\n",
        "\n",
        "1. Bonito é melhor que feio.\n",
        "2. Explícito é melhor que implícito.\n",
        "3.  Simples é melhor que complexo.\n",
        "4. Complexo é melhor que complicado.\n",
        "5. Plano é melhor que aglomerado.\n",
        "6. Esparso é melhor que denso.\n",
        "7. Legibilidade faz diferença.\n",
        "8. Casos especiais não são especiais o bastante para quebrar as regras.\n",
        "9. Embora a praticidade vença a pureza.\n",
        "10. Erros nunca devem passar silenciosamente.\n",
        "11. A menos que sejam explicitamente silenciados.\n",
        "12. Diante da ambigüidade, recuse a tentação de adivinhar.\n",
        "13. Deve haver um -- e preferencialmente só um -- modo óbvio para fazer algo.\n",
        "14. Embora esse modo possa não ser óbvio à primeira vista a menos que você seja holandês.\n",
        "15. Agora é melhor que nunca.\n",
        "16. Embora nunca freqüentemente seja melhor que *exatamente* agora.\n",
        "17. Se a implementação é difícil de explicar, é uma má idéia.\n",
        "18. Se a implementação é fácil de explicar, pode ser uma boa idéia.\n",
        "19. Namespaces são uma grande idéia -- vamos fazer mais dessas! "
      ]
    }
  ]
}