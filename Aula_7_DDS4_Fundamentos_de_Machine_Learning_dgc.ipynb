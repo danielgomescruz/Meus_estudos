{
  "nbformat": 4,
  "nbformat_minor": 0,
  "metadata": {
    "colab": {
      "name": "Aula_7_DDS4_Fundamentos_de_Machine_Learning_dgc.ipynb",
      "provenance": [],
      "include_colab_link": true
    },
    "kernelspec": {
      "name": "python3",
      "display_name": "Python 3"
    },
    "language_info": {
      "name": "python"
    }
  },
  "cells": [
    {
      "cell_type": "markdown",
      "metadata": {
        "id": "view-in-github",
        "colab_type": "text"
      },
      "source": [
        "<a href=\"https://colab.research.google.com/github/danielgomescruz/Meus_estudos/blob/main/Aula_7_DDS4_Fundamentos_de_Machine_Learning_dgc.ipynb\" target=\"_parent\"><img src=\"https://colab.research.google.com/assets/colab-badge.svg\" alt=\"Open In Colab\"/></a>"
      ]
    },
    {
      "cell_type": "markdown",
      "metadata": {
        "id": "Fs0aSgHDw1fF"
      },
      "source": [
        "# **Aula 7 - DDS4 - Fundamentos de Machine Learning**"
      ]
    },
    {
      "cell_type": "markdown",
      "metadata": {
        "id": "f9UKr-Ziw88_"
      },
      "source": [
        "## **Importação dos Dados de Custos Médicos**"
      ]
    },
    {
      "cell_type": "code",
      "metadata": {
        "colab": {
          "base_uri": "https://localhost:8080/",
          "height": 206
        },
        "id": "MQlG3lPfz_C7",
        "outputId": "8935ba78-6d63-4429-e5b8-a1c87fe76caa"
      },
      "source": [
        "#lendo do github do professor \n",
        "\n",
        "import pandas as pd\n",
        "url = 'https://raw.githubusercontent.com/gitflai/DDS4/main/insurance.csv'\n",
        "dados = pd.read_csv(url)\n",
        "dados.head()"
      ],
      "execution_count": null,
      "outputs": [
        {
          "output_type": "execute_result",
          "data": {
            "text/html": [
              "<div>\n",
              "<style scoped>\n",
              "    .dataframe tbody tr th:only-of-type {\n",
              "        vertical-align: middle;\n",
              "    }\n",
              "\n",
              "    .dataframe tbody tr th {\n",
              "        vertical-align: top;\n",
              "    }\n",
              "\n",
              "    .dataframe thead th {\n",
              "        text-align: right;\n",
              "    }\n",
              "</style>\n",
              "<table border=\"1\" class=\"dataframe\">\n",
              "  <thead>\n",
              "    <tr style=\"text-align: right;\">\n",
              "      <th></th>\n",
              "      <th>age</th>\n",
              "      <th>sex</th>\n",
              "      <th>bmi</th>\n",
              "      <th>children</th>\n",
              "      <th>smoker</th>\n",
              "      <th>region</th>\n",
              "      <th>charges</th>\n",
              "    </tr>\n",
              "  </thead>\n",
              "  <tbody>\n",
              "    <tr>\n",
              "      <th>0</th>\n",
              "      <td>19</td>\n",
              "      <td>female</td>\n",
              "      <td>27.900</td>\n",
              "      <td>0</td>\n",
              "      <td>yes</td>\n",
              "      <td>southwest</td>\n",
              "      <td>16884.92400</td>\n",
              "    </tr>\n",
              "    <tr>\n",
              "      <th>1</th>\n",
              "      <td>18</td>\n",
              "      <td>male</td>\n",
              "      <td>33.770</td>\n",
              "      <td>1</td>\n",
              "      <td>no</td>\n",
              "      <td>southeast</td>\n",
              "      <td>1725.55230</td>\n",
              "    </tr>\n",
              "    <tr>\n",
              "      <th>2</th>\n",
              "      <td>28</td>\n",
              "      <td>male</td>\n",
              "      <td>33.000</td>\n",
              "      <td>3</td>\n",
              "      <td>no</td>\n",
              "      <td>southeast</td>\n",
              "      <td>4449.46200</td>\n",
              "    </tr>\n",
              "    <tr>\n",
              "      <th>3</th>\n",
              "      <td>33</td>\n",
              "      <td>male</td>\n",
              "      <td>22.705</td>\n",
              "      <td>0</td>\n",
              "      <td>no</td>\n",
              "      <td>northwest</td>\n",
              "      <td>21984.47061</td>\n",
              "    </tr>\n",
              "    <tr>\n",
              "      <th>4</th>\n",
              "      <td>32</td>\n",
              "      <td>male</td>\n",
              "      <td>28.880</td>\n",
              "      <td>0</td>\n",
              "      <td>no</td>\n",
              "      <td>northwest</td>\n",
              "      <td>3866.85520</td>\n",
              "    </tr>\n",
              "  </tbody>\n",
              "</table>\n",
              "</div>"
            ],
            "text/plain": [
              "   age     sex     bmi  children smoker     region      charges\n",
              "0   19  female  27.900         0    yes  southwest  16884.92400\n",
              "1   18    male  33.770         1     no  southeast   1725.55230\n",
              "2   28    male  33.000         3     no  southeast   4449.46200\n",
              "3   33    male  22.705         0     no  northwest  21984.47061\n",
              "4   32    male  28.880         0     no  northwest   3866.85520"
            ]
          },
          "metadata": {
            "tags": []
          },
          "execution_count": 39
        }
      ]
    },
    {
      "cell_type": "code",
      "metadata": {
        "id": "Ot9FfORqz3GH"
      },
      "source": [
        "# via ambiente de trabalho\n",
        "\n",
        "#caminho = '/content/insurance.csv'\n",
        "#dados = pd.read_csv(caminho)\n",
        "#dados.head()"
      ],
      "execution_count": null,
      "outputs": []
    },
    {
      "cell_type": "code",
      "metadata": {
        "colab": {
          "base_uri": "https://localhost:8080/"
        },
        "id": "fXDFlXN10Us5",
        "outputId": "11decd73-554e-4c4d-aeeb-5b3a3838c01e"
      },
      "source": [
        "dados.info()"
      ],
      "execution_count": null,
      "outputs": [
        {
          "output_type": "stream",
          "text": [
            "<class 'pandas.core.frame.DataFrame'>\n",
            "RangeIndex: 1338 entries, 0 to 1337\n",
            "Data columns (total 7 columns):\n",
            " #   Column    Non-Null Count  Dtype  \n",
            "---  ------    --------------  -----  \n",
            " 0   age       1338 non-null   int64  \n",
            " 1   sex       1338 non-null   object \n",
            " 2   bmi       1338 non-null   float64\n",
            " 3   children  1338 non-null   int64  \n",
            " 4   smoker    1338 non-null   object \n",
            " 5   region    1338 non-null   object \n",
            " 6   charges   1338 non-null   float64\n",
            "dtypes: float64(2), int64(2), object(3)\n",
            "memory usage: 73.3+ KB\n"
          ],
          "name": "stdout"
        }
      ]
    },
    {
      "cell_type": "code",
      "metadata": {
        "colab": {
          "base_uri": "https://localhost:8080/",
          "height": 300
        },
        "id": "mZYqS1Uy0e7U",
        "outputId": "3fa8467d-2a3f-46e3-99da-f40b6290d1b7"
      },
      "source": [
        "dados.describe()"
      ],
      "execution_count": null,
      "outputs": [
        {
          "output_type": "execute_result",
          "data": {
            "text/html": [
              "<div>\n",
              "<style scoped>\n",
              "    .dataframe tbody tr th:only-of-type {\n",
              "        vertical-align: middle;\n",
              "    }\n",
              "\n",
              "    .dataframe tbody tr th {\n",
              "        vertical-align: top;\n",
              "    }\n",
              "\n",
              "    .dataframe thead th {\n",
              "        text-align: right;\n",
              "    }\n",
              "</style>\n",
              "<table border=\"1\" class=\"dataframe\">\n",
              "  <thead>\n",
              "    <tr style=\"text-align: right;\">\n",
              "      <th></th>\n",
              "      <th>age</th>\n",
              "      <th>bmi</th>\n",
              "      <th>children</th>\n",
              "      <th>charges</th>\n",
              "    </tr>\n",
              "  </thead>\n",
              "  <tbody>\n",
              "    <tr>\n",
              "      <th>count</th>\n",
              "      <td>1338.000000</td>\n",
              "      <td>1338.000000</td>\n",
              "      <td>1338.000000</td>\n",
              "      <td>1338.000000</td>\n",
              "    </tr>\n",
              "    <tr>\n",
              "      <th>mean</th>\n",
              "      <td>39.207025</td>\n",
              "      <td>30.663397</td>\n",
              "      <td>1.094918</td>\n",
              "      <td>13270.422265</td>\n",
              "    </tr>\n",
              "    <tr>\n",
              "      <th>std</th>\n",
              "      <td>14.049960</td>\n",
              "      <td>6.098187</td>\n",
              "      <td>1.205493</td>\n",
              "      <td>12110.011237</td>\n",
              "    </tr>\n",
              "    <tr>\n",
              "      <th>min</th>\n",
              "      <td>18.000000</td>\n",
              "      <td>15.960000</td>\n",
              "      <td>0.000000</td>\n",
              "      <td>1121.873900</td>\n",
              "    </tr>\n",
              "    <tr>\n",
              "      <th>25%</th>\n",
              "      <td>27.000000</td>\n",
              "      <td>26.296250</td>\n",
              "      <td>0.000000</td>\n",
              "      <td>4740.287150</td>\n",
              "    </tr>\n",
              "    <tr>\n",
              "      <th>50%</th>\n",
              "      <td>39.000000</td>\n",
              "      <td>30.400000</td>\n",
              "      <td>1.000000</td>\n",
              "      <td>9382.033000</td>\n",
              "    </tr>\n",
              "    <tr>\n",
              "      <th>75%</th>\n",
              "      <td>51.000000</td>\n",
              "      <td>34.693750</td>\n",
              "      <td>2.000000</td>\n",
              "      <td>16639.912515</td>\n",
              "    </tr>\n",
              "    <tr>\n",
              "      <th>max</th>\n",
              "      <td>64.000000</td>\n",
              "      <td>53.130000</td>\n",
              "      <td>5.000000</td>\n",
              "      <td>63770.428010</td>\n",
              "    </tr>\n",
              "  </tbody>\n",
              "</table>\n",
              "</div>"
            ],
            "text/plain": [
              "               age          bmi     children       charges\n",
              "count  1338.000000  1338.000000  1338.000000   1338.000000\n",
              "mean     39.207025    30.663397     1.094918  13270.422265\n",
              "std      14.049960     6.098187     1.205493  12110.011237\n",
              "min      18.000000    15.960000     0.000000   1121.873900\n",
              "25%      27.000000    26.296250     0.000000   4740.287150\n",
              "50%      39.000000    30.400000     1.000000   9382.033000\n",
              "75%      51.000000    34.693750     2.000000  16639.912515\n",
              "max      64.000000    53.130000     5.000000  63770.428010"
            ]
          },
          "metadata": {
            "tags": []
          },
          "execution_count": 41
        }
      ]
    },
    {
      "cell_type": "markdown",
      "metadata": {
        "id": "ZAEJ7DAZkMII"
      },
      "source": [
        "---"
      ]
    },
    {
      "cell_type": "markdown",
      "metadata": {
        "id": "DfEvTAzUxDzq"
      },
      "source": [
        "## **Análise Exploratória dos Dados** "
      ]
    },
    {
      "cell_type": "code",
      "metadata": {
        "id": "cYYNOO800kBa",
        "colab": {
          "base_uri": "https://localhost:8080/"
        },
        "outputId": "5bdd574c-0575-4a54-8238-07bc794e1e01"
      },
      "source": [
        "# instalando biblioteca de visualização !roda aqui \n",
        "\n",
        "!pip install sweetviz "
      ],
      "execution_count": null,
      "outputs": [
        {
          "output_type": "stream",
          "text": [
            "Requirement already satisfied: sweetviz in /usr/local/lib/python3.7/dist-packages (2.1.2)\n",
            "Requirement already satisfied: jinja2>=2.11.1 in /usr/local/lib/python3.7/dist-packages (from sweetviz) (2.11.3)\n",
            "Requirement already satisfied: scipy>=1.3.2 in /usr/local/lib/python3.7/dist-packages (from sweetviz) (1.4.1)\n",
            "Requirement already satisfied: matplotlib>=3.1.3 in /usr/local/lib/python3.7/dist-packages (from sweetviz) (3.2.2)\n",
            "Requirement already satisfied: numpy>=1.16.0 in /usr/local/lib/python3.7/dist-packages (from sweetviz) (1.19.5)\n",
            "Requirement already satisfied: pandas!=1.0.0,!=1.0.1,!=1.0.2,>=0.25.3 in /usr/local/lib/python3.7/dist-packages (from sweetviz) (1.1.5)\n",
            "Requirement already satisfied: importlib-resources>=1.2.0 in /usr/local/lib/python3.7/dist-packages (from sweetviz) (5.1.3)\n",
            "Requirement already satisfied: tqdm>=4.43.0 in /usr/local/lib/python3.7/dist-packages (from sweetviz) (4.61.0)\n",
            "Requirement already satisfied: MarkupSafe>=0.23 in /usr/local/lib/python3.7/dist-packages (from jinja2>=2.11.1->sweetviz) (2.0.1)\n",
            "Requirement already satisfied: kiwisolver>=1.0.1 in /usr/local/lib/python3.7/dist-packages (from matplotlib>=3.1.3->sweetviz) (1.3.1)\n",
            "Requirement already satisfied: cycler>=0.10 in /usr/local/lib/python3.7/dist-packages (from matplotlib>=3.1.3->sweetviz) (0.10.0)\n",
            "Requirement already satisfied: pyparsing!=2.0.4,!=2.1.2,!=2.1.6,>=2.0.1 in /usr/local/lib/python3.7/dist-packages (from matplotlib>=3.1.3->sweetviz) (2.4.7)\n",
            "Requirement already satisfied: python-dateutil>=2.1 in /usr/local/lib/python3.7/dist-packages (from matplotlib>=3.1.3->sweetviz) (2.8.1)\n",
            "Requirement already satisfied: pytz>=2017.2 in /usr/local/lib/python3.7/dist-packages (from pandas!=1.0.0,!=1.0.1,!=1.0.2,>=0.25.3->sweetviz) (2018.9)\n",
            "Requirement already satisfied: zipp>=0.4; python_version < \"3.8\" in /usr/local/lib/python3.7/dist-packages (from importlib-resources>=1.2.0->sweetviz) (3.4.1)\n",
            "Requirement already satisfied: six in /usr/local/lib/python3.7/dist-packages (from cycler>=0.10->matplotlib>=3.1.3->sweetviz) (1.15.0)\n"
          ],
          "name": "stdout"
        }
      ]
    },
    {
      "cell_type": "code",
      "metadata": {
        "id": "rk19IYFckDh0"
      },
      "source": [
        "import sweetviz as sv"
      ],
      "execution_count": null,
      "outputs": []
    },
    {
      "cell_type": "code",
      "metadata": {
        "colab": {
          "base_uri": "https://localhost:8080/",
          "height": 329
        },
        "id": "X0jCYGf10nFU",
        "outputId": "14d12321-8380-4f72-e867-544948a9d646"
      },
      "source": [
        "eda = sv.analyze(source = dados, target_feat = 'charges')"
      ],
      "execution_count": null,
      "outputs": [
        {
          "output_type": "error",
          "ename": "AttributeError",
          "evalue": "ignored",
          "traceback": [
            "\u001b[0;31m---------------------------------------------------------------------------\u001b[0m",
            "\u001b[0;31mAttributeError\u001b[0m                            Traceback (most recent call last)",
            "\u001b[0;32m<ipython-input-44-36ee3f95d047>\u001b[0m in \u001b[0;36m<module>\u001b[0;34m()\u001b[0m\n\u001b[0;32m----> 1\u001b[0;31m \u001b[0meda\u001b[0m \u001b[0;34m=\u001b[0m \u001b[0msv\u001b[0m\u001b[0;34m.\u001b[0m\u001b[0manalyze\u001b[0m\u001b[0;34m(\u001b[0m\u001b[0msource\u001b[0m \u001b[0;34m=\u001b[0m \u001b[0mdados\u001b[0m\u001b[0;34m,\u001b[0m \u001b[0mtarget_feat\u001b[0m \u001b[0;34m=\u001b[0m \u001b[0;34m'charges'\u001b[0m\u001b[0;34m)\u001b[0m\u001b[0;34m\u001b[0m\u001b[0;34m\u001b[0m\u001b[0m\n\u001b[0m",
            "\u001b[0;32m/usr/local/lib/python3.7/dist-packages/sweetviz/sv_public.py\u001b[0m in \u001b[0;36manalyze\u001b[0;34m(source, target_feat, feat_cfg, pairwise_analysis)\u001b[0m\n\u001b[1;32m     11\u001b[0m             pairwise_analysis: str = 'auto'):\n\u001b[1;32m     12\u001b[0m     report = sweetviz.DataframeReport(source, target_feat, None,\n\u001b[0;32m---> 13\u001b[0;31m                                       pairwise_analysis, feat_cfg)\n\u001b[0m\u001b[1;32m     14\u001b[0m     \u001b[0;32mreturn\u001b[0m \u001b[0mreport\u001b[0m\u001b[0;34m\u001b[0m\u001b[0;34m\u001b[0m\u001b[0m\n\u001b[1;32m     15\u001b[0m \u001b[0;34m\u001b[0m\u001b[0m\n",
            "\u001b[0;32m/usr/local/lib/python3.7/dist-packages/sweetviz/dataframe_report.py\u001b[0m in \u001b[0;36m__init__\u001b[0;34m(self, source, target_feature_name, compare, pairwise_analysis, fc)\u001b[0m\n\u001b[1;32m    122\u001b[0m         self.progress_bar = tqdm(total=progress_chunks, bar_format= \\\n\u001b[1;32m    123\u001b[0m                 \u001b[0;34m'{desc:45}|{bar}| [{percentage:3.0f}%]   {elapsed} -> ({remaining} left)'\u001b[0m\u001b[0;34m,\u001b[0m\u001b[0;31m \u001b[0m\u001b[0;31m\\\u001b[0m\u001b[0;34m\u001b[0m\u001b[0;34m\u001b[0m\u001b[0m\n\u001b[0;32m--> 124\u001b[0;31m                 ascii=False, dynamic_ncols=True, position=0, leave= True)\n\u001b[0m\u001b[1;32m    125\u001b[0m \u001b[0;34m\u001b[0m\u001b[0m\n\u001b[1;32m    126\u001b[0m         \u001b[0;31m# Summarize dataframe\u001b[0m\u001b[0;34m\u001b[0m\u001b[0;34m\u001b[0m\u001b[0;34m\u001b[0m\u001b[0m\n",
            "\u001b[0;32m/usr/local/lib/python3.7/dist-packages/tqdm/notebook.py\u001b[0m in \u001b[0;36m__init__\u001b[0;34m(self, *args, **kwargs)\u001b[0m\n\u001b[1;32m    240\u001b[0m         \u001b[0mself\u001b[0m\u001b[0;34m.\u001b[0m\u001b[0mcontainer\u001b[0m\u001b[0;34m.\u001b[0m\u001b[0mpbar\u001b[0m \u001b[0;34m=\u001b[0m \u001b[0mself\u001b[0m\u001b[0;34m\u001b[0m\u001b[0;34m\u001b[0m\u001b[0m\n\u001b[1;32m    241\u001b[0m         \u001b[0mself\u001b[0m\u001b[0;34m.\u001b[0m\u001b[0mdisplayed\u001b[0m \u001b[0;34m=\u001b[0m \u001b[0;32mFalse\u001b[0m\u001b[0;34m\u001b[0m\u001b[0;34m\u001b[0m\u001b[0m\n\u001b[0;32m--> 242\u001b[0;31m         \u001b[0;32mif\u001b[0m \u001b[0mdisplay_here\u001b[0m \u001b[0;32mand\u001b[0m \u001b[0mself\u001b[0m\u001b[0;34m.\u001b[0m\u001b[0mdelay\u001b[0m \u001b[0;34m<=\u001b[0m \u001b[0;36m0\u001b[0m\u001b[0;34m:\u001b[0m\u001b[0;34m\u001b[0m\u001b[0;34m\u001b[0m\u001b[0m\n\u001b[0m\u001b[1;32m    243\u001b[0m             \u001b[0mdisplay\u001b[0m\u001b[0;34m(\u001b[0m\u001b[0mself\u001b[0m\u001b[0;34m.\u001b[0m\u001b[0mcontainer\u001b[0m\u001b[0;34m)\u001b[0m\u001b[0;34m\u001b[0m\u001b[0;34m\u001b[0m\u001b[0m\n\u001b[1;32m    244\u001b[0m             \u001b[0mself\u001b[0m\u001b[0;34m.\u001b[0m\u001b[0mdisplayed\u001b[0m \u001b[0;34m=\u001b[0m \u001b[0;32mTrue\u001b[0m\u001b[0;34m\u001b[0m\u001b[0;34m\u001b[0m\u001b[0m\n",
            "\u001b[0;31mAttributeError\u001b[0m: 'tqdm' object has no attribute 'delay'"
          ]
        }
      ]
    },
    {
      "cell_type": "code",
      "metadata": {
        "id": "amaAhKpD3t-q",
        "colab": {
          "base_uri": "https://localhost:8080/",
          "height": 173
        },
        "outputId": "6e87db97-32de-4336-d076-0a7bf8745eb6"
      },
      "source": [
        "eda.show_notebook()"
      ],
      "execution_count": null,
      "outputs": [
        {
          "output_type": "error",
          "ename": "NameError",
          "evalue": "ignored",
          "traceback": [
            "\u001b[0;31m---------------------------------------------------------------------------\u001b[0m",
            "\u001b[0;31mNameError\u001b[0m                                 Traceback (most recent call last)",
            "\u001b[0;32m<ipython-input-28-15522fc3998d>\u001b[0m in \u001b[0;36m<module>\u001b[0;34m()\u001b[0m\n\u001b[0;32m----> 1\u001b[0;31m \u001b[0meda\u001b[0m\u001b[0;34m.\u001b[0m\u001b[0mshow_notebook\u001b[0m\u001b[0;34m(\u001b[0m\u001b[0;34m)\u001b[0m\u001b[0;34m\u001b[0m\u001b[0;34m\u001b[0m\u001b[0m\n\u001b[0m",
            "\u001b[0;31mNameError\u001b[0m: name 'eda' is not defined"
          ]
        }
      ]
    },
    {
      "cell_type": "code",
      "metadata": {
        "id": "zxSGBOLH4YFt"
      },
      "source": [
        "eda2 = sv.compare_intra(source_df = dados,\n",
        "                              condition_series = dados['sex'] == 'male',\n",
        "                              names = ['Masculino', 'Feminino'],\n",
        "                              target_feat = 'smoker')"
      ],
      "execution_count": null,
      "outputs": []
    },
    {
      "cell_type": "code",
      "metadata": {
        "id": "WvlO81g947L9"
      },
      "source": [
        "eda2.show_notebook()\n",
        "#eda2.show_html(layout = 'vertical')"
      ],
      "execution_count": null,
      "outputs": []
    },
    {
      "cell_type": "markdown",
      "metadata": {
        "id": "5cgcVyc8iOm0"
      },
      "source": [
        "---"
      ]
    },
    {
      "cell_type": "markdown",
      "metadata": {
        "id": "IEk0HgVSxKE3"
      },
      "source": [
        "## **_Mise en place_ para Modelagem**"
      ]
    },
    {
      "cell_type": "markdown",
      "metadata": {
        "id": "hZGROkRu9UpH"
      },
      "source": [
        "Em Machine Learning, em geral, todas as variáveis do conjunto de dados que será utilizado precisam ser númericas. É também interessante que o intervalo de variabilidade das variáveis contínuas não seja tão grande e esteja próximo de zero. \n",
        "\n",
        "Para tanto, façamos as seguintes transformações:\n",
        "\n",
        "- Transformar a variável smoker em 0 (não) ou 1 (sim)\n",
        "- Colocar a variável resposta na escala para cada mil dolares"
      ]
    },
    {
      "cell_type": "code",
      "metadata": {
        "id": "Muq_duUh5bPQ"
      },
      "source": [
        "dados['smoker'] = dados['smoker'].map({'yes': 1, 'no': 0}) #transformando para dados numericos\n",
        "dados['charges'] = dados['charges']/1000 #aproximacao de escala"
      ],
      "execution_count": null,
      "outputs": []
    },
    {
      "cell_type": "markdown",
      "metadata": {
        "id": "WbHA9S9J-AHa"
      },
      "source": [
        "Nessa análise, a princípio, vamos considerar as variáveis: charges, bmi e smoker."
      ]
    },
    {
      "cell_type": "code",
      "metadata": {
        "id": "HId8TTPo-QJf",
        "colab": {
          "base_uri": "https://localhost:8080/",
          "height": 206
        },
        "outputId": "0fdb23c0-cf81-4033-9cbc-78b01a763cc6"
      },
      "source": [
        "dados = dados[['bmi', 'smoker', 'charges']] #para prever charges (var numerica)\n",
        "dados.head()                                #para prever smoker (categorica)"
      ],
      "execution_count": null,
      "outputs": [
        {
          "output_type": "execute_result",
          "data": {
            "text/html": [
              "<div>\n",
              "<style scoped>\n",
              "    .dataframe tbody tr th:only-of-type {\n",
              "        vertical-align: middle;\n",
              "    }\n",
              "\n",
              "    .dataframe tbody tr th {\n",
              "        vertical-align: top;\n",
              "    }\n",
              "\n",
              "    .dataframe thead th {\n",
              "        text-align: right;\n",
              "    }\n",
              "</style>\n",
              "<table border=\"1\" class=\"dataframe\">\n",
              "  <thead>\n",
              "    <tr style=\"text-align: right;\">\n",
              "      <th></th>\n",
              "      <th>bmi</th>\n",
              "      <th>smoker</th>\n",
              "      <th>charges</th>\n",
              "    </tr>\n",
              "  </thead>\n",
              "  <tbody>\n",
              "    <tr>\n",
              "      <th>0</th>\n",
              "      <td>27.900</td>\n",
              "      <td>1</td>\n",
              "      <td>16.884924</td>\n",
              "    </tr>\n",
              "    <tr>\n",
              "      <th>1</th>\n",
              "      <td>33.770</td>\n",
              "      <td>0</td>\n",
              "      <td>1.725552</td>\n",
              "    </tr>\n",
              "    <tr>\n",
              "      <th>2</th>\n",
              "      <td>33.000</td>\n",
              "      <td>0</td>\n",
              "      <td>4.449462</td>\n",
              "    </tr>\n",
              "    <tr>\n",
              "      <th>3</th>\n",
              "      <td>22.705</td>\n",
              "      <td>0</td>\n",
              "      <td>21.984471</td>\n",
              "    </tr>\n",
              "    <tr>\n",
              "      <th>4</th>\n",
              "      <td>28.880</td>\n",
              "      <td>0</td>\n",
              "      <td>3.866855</td>\n",
              "    </tr>\n",
              "  </tbody>\n",
              "</table>\n",
              "</div>"
            ],
            "text/plain": [
              "      bmi  smoker    charges\n",
              "0  27.900       1  16.884924\n",
              "1  33.770       0   1.725552\n",
              "2  33.000       0   4.449462\n",
              "3  22.705       0  21.984471\n",
              "4  28.880       0   3.866855"
            ]
          },
          "metadata": {
            "tags": []
          },
          "execution_count": 46
        }
      ]
    },
    {
      "cell_type": "markdown",
      "metadata": {
        "id": "P88SyAF7jU1t"
      },
      "source": [
        "Veja essas variáveis no gráfico de dispersão:"
      ]
    },
    {
      "cell_type": "code",
      "metadata": {
        "id": "uC6vcLuqjUBc",
        "colab": {
          "base_uri": "https://localhost:8080/",
          "height": 279
        },
        "outputId": "f7bb6d47-9820-4d57-ba9e-4dfa0f5b02c2"
      },
      "source": [
        "import seaborn as sns\n",
        "\n",
        "#sns.scatterplot(x = 'bmi', y = 'charges', data = dados);\n",
        "sns.scatterplot(x = 'bmi', y = 'charges', data = dados, hue = 'smoker');"
      ],
      "execution_count": null,
      "outputs": [
        {
          "output_type": "display_data",
          "data": {
            "image/png": "[encoded data removed]",
            "text/plain": [
              "<Figure size 432x288 with 1 Axes>"
            ]
          },
          "metadata": {
            "tags": [],
            "needs_background": "light"
          }
        }
      ]
    },
    {
      "cell_type": "markdown",
      "metadata": {
        "id": "pP6eaDkAnxmb"
      },
      "source": [
        "---"
      ]
    },
    {
      "cell_type": "markdown",
      "metadata": {
        "id": "bUEY-HaZxkEM"
      },
      "source": [
        "## **Nosso Primeiro Modelo de Machine Learning**"
      ]
    },
    {
      "cell_type": "code",
      "metadata": {
        "id": "pujjXMU6hzJQ",
        "colab": {
          "base_uri": "https://localhost:8080/"
        },
        "outputId": "5fd2e908-c84e-4cde-ef01-03b1c4ed1e75"
      },
      "source": [
        "from sklearn.linear_model import LinearRegression #sklearn = ml\n",
        "\n",
        "# Modelo para prever a variável CHARGES a partir da BMI\n",
        "\n",
        "X = dados[['bmi']] #varialvel explicativa [[]]df\n",
        "y = dados['charges'] #variavel resposta []series, funciona com os dois\n",
        "\n",
        "regressao = LinearRegression() #definindo o modelo\n",
        "regressao.fit(X, y) #ajustando o modelo, achar beta 0 e beta 1\n",
        "#aqui ja finalizamos o modelo, mas nao e so isso..."
      ],
      "execution_count": null,
      "outputs": [
        {
          "output_type": "execute_result",
          "data": {
            "text/plain": [
              "LinearRegression(copy_X=True, fit_intercept=True, n_jobs=None, normalize=False)"
            ]
          },
          "metadata": {
            "tags": []
          },
          "execution_count": 48
        }
      ]
    },
    {
      "cell_type": "markdown",
      "metadata": {
        "id": "8vVjSAbLoJCw"
      },
      "source": [
        "Nesse cenário, o modelo de regressão linear é dado por\n",
        "\n",
        " **CUSTOS = b0 + b1 * IMC**"
      ]
    },
    {
      "cell_type": "code",
      "metadata": {
        "id": "PN0hI6VJiJ5D",
        "colab": {
          "base_uri": "https://localhost:8080/",
          "height": 461
        },
        "outputId": "29845550-f8b4-4025-f490-37761edc2eb1"
      },
      "source": [
        "# Resgatando os coeficientes ajustados\n",
        "\n",
        "print('b0 = ', regressao.intercept_) #me da o beta 0\n",
        "print('b1 = ', regressao.coef_ [0] ) #me da o beta 1\n",
        "X"
      ],
      "execution_count": null,
      "outputs": [
        {
          "output_type": "stream",
          "text": [
            "b0 =  1.1929372089611512\n",
            "b1 =  0.3938730307973951\n"
          ],
          "name": "stdout"
        },
        {
          "output_type": "execute_result",
          "data": {
            "text/html": [
              "<div>\n",
              "<style scoped>\n",
              "    .dataframe tbody tr th:only-of-type {\n",
              "        vertical-align: middle;\n",
              "    }\n",
              "\n",
              "    .dataframe tbody tr th {\n",
              "        vertical-align: top;\n",
              "    }\n",
              "\n",
              "    .dataframe thead th {\n",
              "        text-align: right;\n",
              "    }\n",
              "</style>\n",
              "<table border=\"1\" class=\"dataframe\">\n",
              "  <thead>\n",
              "    <tr style=\"text-align: right;\">\n",
              "      <th></th>\n",
              "      <th>bmi</th>\n",
              "    </tr>\n",
              "  </thead>\n",
              "  <tbody>\n",
              "    <tr>\n",
              "      <th>0</th>\n",
              "      <td>27.900</td>\n",
              "    </tr>\n",
              "    <tr>\n",
              "      <th>1</th>\n",
              "      <td>33.770</td>\n",
              "    </tr>\n",
              "    <tr>\n",
              "      <th>2</th>\n",
              "      <td>33.000</td>\n",
              "    </tr>\n",
              "    <tr>\n",
              "      <th>3</th>\n",
              "      <td>22.705</td>\n",
              "    </tr>\n",
              "    <tr>\n",
              "      <th>4</th>\n",
              "      <td>28.880</td>\n",
              "    </tr>\n",
              "    <tr>\n",
              "      <th>...</th>\n",
              "      <td>...</td>\n",
              "    </tr>\n",
              "    <tr>\n",
              "      <th>1333</th>\n",
              "      <td>30.970</td>\n",
              "    </tr>\n",
              "    <tr>\n",
              "      <th>1334</th>\n",
              "      <td>31.920</td>\n",
              "    </tr>\n",
              "    <tr>\n",
              "      <th>1335</th>\n",
              "      <td>36.850</td>\n",
              "    </tr>\n",
              "    <tr>\n",
              "      <th>1336</th>\n",
              "      <td>25.800</td>\n",
              "    </tr>\n",
              "    <tr>\n",
              "      <th>1337</th>\n",
              "      <td>29.070</td>\n",
              "    </tr>\n",
              "  </tbody>\n",
              "</table>\n",
              "<p>1338 rows × 1 columns</p>\n",
              "</div>"
            ],
            "text/plain": [
              "         bmi\n",
              "0     27.900\n",
              "1     33.770\n",
              "2     33.000\n",
              "3     22.705\n",
              "4     28.880\n",
              "...      ...\n",
              "1333  30.970\n",
              "1334  31.920\n",
              "1335  36.850\n",
              "1336  25.800\n",
              "1337  29.070\n",
              "\n",
              "[1338 rows x 1 columns]"
            ]
          },
          "metadata": {
            "tags": []
          },
          "execution_count": 49
        }
      ]
    },
    {
      "cell_type": "code",
      "metadata": {
        "id": "XFy9lNBGlHRe",
        "colab": {
          "base_uri": "https://localhost:8080/"
        },
        "outputId": "2c6e9d41-81cf-46aa-a2d6-9b1a5b9e04f7"
      },
      "source": [
        "#usando o modelo em dados novos\n",
        "# Usando o modelo de regressão linear na prática\n",
        "\n",
        "novos_dados = pd.DataFrame({'bmi': [15, 22, 28, 33, 40, 45]}) #fazer a previsao do charge usando bmi de 4 pessoas 15, 22, 28, 33\n",
        "regressao.predict(novos_dados) #mesmo tamanho e mesmo numero de colunas. O predict e fazer a predicao propriamente dita \n",
        "#resposta em mil dolares"
      ],
      "execution_count": null,
      "outputs": [
        {
          "output_type": "execute_result",
          "data": {
            "text/plain": [
              "array([ 7.10103267,  9.85814389, 12.22138207, 14.19074723, 16.94785844,\n",
              "       18.91722359])"
            ]
          },
          "metadata": {
            "tags": []
          },
          "execution_count": 50
        }
      ]
    },
    {
      "cell_type": "code",
      "metadata": {
        "id": "JsV1H4WBluNS",
        "colab": {
          "base_uri": "https://localhost:8080/",
          "height": 295
        },
        "outputId": "ef994789-d2d1-486c-ae5e-bfaa32df85cd"
      },
      "source": [
        "#dando uma olhadinha pra ver como ficou\n",
        "# Gráfico do Ajuste\n",
        "\n",
        "b0 = regressao.intercept_\n",
        "b1 = regressao.coef_\n",
        "\n",
        "import numpy as np\n",
        "pontos_em_x = np.arange(15, 55, 0.1) #um monte de pontinhos intercalados no intervalo do bmi\n",
        "pontos_em_y = b0 + b1 * pontos_em_x #calcula o valor da reta pra todos os pontos em x \n",
        "\n",
        "sns.scatterplot(x = 'bmi', y = 'charges', data = dados) #plotar os pontos\n",
        "\n",
        "import matplotlib.pyplot as plt\n",
        "\n",
        "plt.plot(pontos_em_x, pontos_em_y, color = 'blue') #faz a linha de tendencia\n",
        "plt.title('Ajuste do Modelo de Regressão Linear')\n",
        "plt.xlabel('IMC')\n",
        "plt.ylabel('Custos')\n",
        "plt.show() #a reta indica que nao e um bom modelo de regressao, pois os pontos estao muito dispersos da reta\n",
        "#corre um grande risco em colocar o modelo em producao, pois nem sei o quanto o modelo esta errando"
      ],
      "execution_count": null,
      "outputs": [
        {
          "output_type": "display_data",
          "data": {
            "image/png": "[encoded data removed]",
            "text/plain": [
              "<Figure size 432x288 with 1 Axes>"
            ]
          },
          "metadata": {
            "tags": [],
            "needs_background": "light"
          }
        }
      ]
    },
    {
      "cell_type": "markdown",
      "metadata": {
        "id": "n5VG9Il8lXDR"
      },
      "source": [
        "**Pronto, fizemos nosso modelo.** \n",
        "\n",
        "**Acabou Machine Learning.**\n",
        "\n",
        "...\n",
        "\n",
        "**Será?**"
      ]
    },
    {
      "cell_type": "markdown",
      "metadata": {
        "id": "jXd4fUaGlV1u"
      },
      "source": [
        "---"
      ]
    },
    {
      "cell_type": "markdown",
      "metadata": {
        "id": "xD5LFvIuydlQ"
      },
      "source": [
        "## **Métrica para Avaliação do Modelo**"
      ]
    },
    {
      "cell_type": "code",
      "metadata": {
        "id": "MnV8CHxlmtYB",
        "colab": {
          "base_uri": "https://localhost:8080/"
        },
        "outputId": "a9bac4cc-7e6c-4808-e7e6-f44e4921f8d8"
      },
      "source": [
        "# Erro Quadrático Médio\n",
        "\n",
        "preditos = regressao.predict(X) #conjunto de treino\n",
        "eqm = ((y - preditos) ** 2).mean() #real - predito ao quadrado\n",
        "\n",
        "from sklearn.metrics import mean_squared_error #funcao pronta pra calcular o erro quadratico medio\n",
        "eqm = mean_squared_error(y, preditos)\n",
        "\n",
        "print('EQM da Regressão Linear: {}'.format(round(eqm, 2))) #serve para se comparar modelos, quanto < melhor\n",
        "#na pomba e o 95% :), pois usei o conjunto de treino"
      ],
      "execution_count": null,
      "outputs": [
        {
          "output_type": "stream",
          "text": [
            "EQM da Regressão Linear: 140.78\n"
          ],
          "name": "stdout"
        }
      ]
    },
    {
      "cell_type": "markdown",
      "metadata": {
        "id": "TE5IBGKzn7Av"
      },
      "source": [
        "---"
      ]
    },
    {
      "cell_type": "markdown",
      "metadata": {
        "id": "s4KhLg2Hyd2T"
      },
      "source": [
        "## **Estratégia de Validação do Modelo**"
      ]
    },
    {
      "cell_type": "code",
      "metadata": {
        "id": "BHWCqjCBoyF3"
      },
      "source": [
        "# Técnica HOLDOUT\n",
        "from sklearn.model_selection import train_test_split #divisao teste/treino"
      ],
      "execution_count": null,
      "outputs": []
    },
    {
      "cell_type": "code",
      "metadata": {
        "id": "MMPBuQkEPSEE",
        "colab": {
          "base_uri": "https://localhost:8080/"
        },
        "outputId": "20705d66-1369-4acf-f1bc-485b9c14d7de"
      },
      "source": [
        "train_test_split(X, y, test_size = 0.25) #25 teste e 75 treino"
      ],
      "execution_count": null,
      "outputs": [
        {
          "output_type": "execute_result",
          "data": {
            "text/plain": [
              "[         bmi\n",
              " 1005  31.730\n",
              " 406   24.310\n",
              " 972   20.235\n",
              " 970   28.160\n",
              " 577   38.095\n",
              " ...      ...\n",
              " 885   28.930\n",
              " 389   30.210\n",
              " 314   31.400\n",
              " 1091  29.830\n",
              " 1098  30.875\n",
              " \n",
              " [1003 rows x 1 columns],          bmi\n",
              " 1224  23.940\n",
              " 502   23.210\n",
              " 1089  22.100\n",
              " 1299  25.745\n",
              " 414   35.150\n",
              " ...      ...\n",
              " 1026  26.030\n",
              " 822   31.130\n",
              " 221   33.250\n",
              " 944   39.930\n",
              " 457   30.495\n",
              " \n",
              " [335 rows x 1 columns], 1005     4.433388\n",
              " 406      4.185098\n",
              " 972      2.527819\n",
              " 970     10.702642\n",
              " 577     58.571074\n",
              "           ...    \n",
              " 885     19.719695\n",
              " 389      4.618080\n",
              " 314     34.838873\n",
              " 1091    11.286539\n",
              " 1098    23.045566\n",
              " Name: charges, Length: 1003, dtype: float64, 1224     6.858480\n",
              " 502     22.218115\n",
              " 1089    10.577087\n",
              " 1299     2.710829\n",
              " 414      2.134901\n",
              "           ...    \n",
              " 1026    16.450895\n",
              " 822      1.621883\n",
              " 221     10.564884\n",
              " 944     12.982875\n",
              " 457     11.840775\n",
              " Name: charges, Length: 335, dtype: float64]"
            ]
          },
          "metadata": {
            "tags": []
          },
          "execution_count": 54
        }
      ]
    },
    {
      "cell_type": "code",
      "metadata": {
        "id": "e0ulXdAEo0uI",
        "colab": {
          "base_uri": "https://localhost:8080/"
        },
        "outputId": "00797c46-3694-42eb-8cf3-5aa841d21f4c"
      },
      "source": [
        "# Separe os dados em teste e treino \n",
        "Xtreino, Xteste, ytreino, yteste = train_test_split(X, y, test_size = 0.25)\n",
        "#NAO USAR PARAMETRO PARA FIXAR, ISSO E ERRADO!!! O HOLDOUT APRESENTA ESSE PROBLEMA, POIS A RESPOSTA VARIA MUITO\n",
        "\n",
        "# Ajuste do modelo nos dados de TREINO\n",
        "regressao = LinearRegression()\n",
        "regressao.fit(Xtreino, ytreino)\n",
        "#treinei o modelo\n",
        "\n",
        "# Utilize o modelo ajustado para predizer os dados de TESTE\n",
        "preditos = regressao.predict(Xteste) \n",
        "#testei o modelo\n",
        "\n",
        "# Calcule o Erro Quadrático Médio nos dados de TESTE \n",
        "eqm = mean_squared_error(yteste, preditos)\n",
        "print('EQM : {}'.format(round(eqm, 2)))\n",
        "#deu maior do que 140.78 que foi com o conjunto de treino"
      ],
      "execution_count": null,
      "outputs": [
        {
          "output_type": "stream",
          "text": [
            "EQM : 137.43\n"
          ],
          "name": "stdout"
        }
      ]
    },
    {
      "cell_type": "code",
      "metadata": {
        "id": "BkbSSuYUa1x0",
        "colab": {
          "base_uri": "https://localhost:8080/"
        },
        "outputId": "704c90cf-4e05-407a-9b38-12d4f83147de"
      },
      "source": [
        "print(Xtreino.shape)\n",
        "print(Xteste.shape)"
      ],
      "execution_count": null,
      "outputs": [
        {
          "output_type": "stream",
          "text": [
            "(1003, 1)\n",
            "(335, 1)\n"
          ],
          "name": "stdout"
        }
      ]
    },
    {
      "cell_type": "markdown",
      "metadata": {
        "id": "zS2cLPzap48d"
      },
      "source": [
        "**O método Holdout produz resultados com uma certa variabilidade, o que causa incerteza sobre o real valor do EQM do modelo**\n",
        "\n",
        "**Como resolver?**"
      ]
    },
    {
      "cell_type": "markdown",
      "metadata": {
        "id": "4sspZa8ln_oU"
      },
      "source": [
        "---"
      ]
    },
    {
      "cell_type": "markdown",
      "metadata": {
        "id": "Cl9vaBNgy0rw"
      },
      "source": [
        "## **Alimentação do Modelo com mais Informações!**"
      ]
    },
    {
      "cell_type": "code",
      "metadata": {
        "id": "Mz6tJme6Ajag"
      },
      "source": [
        "# Considerando o modelo com DUAS variáveis preditoras\n",
        "\n",
        "X = dados[['bmi', 'smoker']] #agora com duas variaveis\n",
        "y = dados['charges']"
      ],
      "execution_count": null,
      "outputs": []
    },
    {
      "cell_type": "markdown",
      "metadata": {
        "id": "CqPVSx4qrcuH"
      },
      "source": [
        "Nesse cenário, o modelo de regressão linear é dado por\n",
        "\n",
        " **CUSTOS = b0 + b1 * IMC + b2 * FUMANTE**"
      ]
    },
    {
      "cell_type": "code",
      "metadata": {
        "id": "TI_WWQq1FORU",
        "colab": {
          "base_uri": "https://localhost:8080/"
        },
        "outputId": "17233855-c174-47c1-c96d-caa5f2cbd8a4"
      },
      "source": [
        "# Repetindo o procedimento de Validação HOLDOUT\n",
        "Xtreino, Xteste, ytreino, yteste  = train_test_split(X, y, test_size = 0.25)\n",
        "regressao = LinearRegression()\n",
        "regressao.fit(Xtreino, ytreino)\n",
        "preditos = regressao.predict(Xteste)\n",
        "eqm = mean_squared_error(yteste, preditos)\n",
        "print('EQM : {}'.format(round(eqm, 2)))\n",
        "\n",
        "#muito menor do que o 141.94 com somente uma variavel\n",
        "#quando alimenta o modelo com boa informacao, ganha-se muita performance\n"
      ],
      "execution_count": null,
      "outputs": [
        {
          "output_type": "stream",
          "text": [
            "EQM : 53.0\n"
          ],
          "name": "stdout"
        }
      ]
    },
    {
      "cell_type": "code",
      "metadata": {
        "id": "VDj9ZnQVC2kT",
        "colab": {
          "base_uri": "https://localhost:8080/"
        },
        "outputId": "81a24c57-6387-4cba-89f1-1206a3d494e4"
      },
      "source": [
        "# Coeficientes\n",
        "b0 = regressao.intercept_\n",
        "b1, b2 = regressao.coef_\n",
        "print('b0 = ', b0)\n",
        "print('b1 = ', b1)\n",
        "print('b2 = ', b2)\n",
        "\n",
        "#uso pra calcular y chapeu"
      ],
      "execution_count": null,
      "outputs": [
        {
          "output_type": "stream",
          "text": [
            "b0 =  -5.139706972049153\n",
            "b1 =  0.43573471695650234\n",
            "b2 =  23.72402929423816\n"
          ],
          "name": "stdout"
        }
      ]
    },
    {
      "cell_type": "code",
      "metadata": {
        "id": "u4k9l-5EGpXF",
        "colab": {
          "base_uri": "https://localhost:8080/",
          "height": 295
        },
        "outputId": "df63c903-db12-454b-fc6b-f04eb18d371c"
      },
      "source": [
        "# Gráfico do Ajuste com DUAS Variáveis\n",
        "\n",
        "x = np.arange(15, 55, 0.1)\n",
        "y0 = b0 + b1 * x + b2 * 0 #reta para quando o smoker = 0\n",
        "y1 = b0 + b1 * x + b2 * 1 #reta para quando o smoker = 1\n",
        "\n",
        "sns.scatterplot(x = 'bmi', y = 'charges', hue = 'smoker', data = dados)\n",
        "plt.plot(x, y0, color = 'blue')\n",
        "plt.plot(x, y1, color = 'orange')\n",
        "plt.title('Ajuste do Modelo de Regressão Linear')\n",
        "plt.xlabel('IMC')\n",
        "plt.ylabel('Custo')\n",
        "plt.show()\n",
        "\n",
        "#adicionar mais variaveis e analisar o eqm\n",
        "#precisamos repetir varias vezes o holdout para variar o conjunto de dados de treino e teste\n",
        "#o problema da regressao linear e a reta!"
      ],
      "execution_count": null,
      "outputs": [
        {
          "output_type": "display_data",
          "data": {
            "image/png": "[encoded data removed]",
            "text/plain": [
              "<Figure size 432x288 with 1 Axes>"
            ]
          },
          "metadata": {
            "tags": [],
            "needs_background": "light"
          }
        }
      ]
    },
    {
      "cell_type": "markdown",
      "metadata": {
        "id": "sC5mCDDvoAge"
      },
      "source": [
        "---"
      ]
    },
    {
      "cell_type": "markdown",
      "metadata": {
        "id": "45Gj0QVLzUQG"
      },
      "source": [
        "## **Exercício Proposto**\n",
        "\n",
        "Faça repetições da técnica Holdout, de maneira a variar os dados que ficam no conjunto de treino e teste. Guarde os resultados do EQM para cada repetição e, no final, calcule sua média para obter uma valor mais estável para o EQM."
      ]
    },
    {
      "cell_type": "markdown",
      "metadata": {
        "id": "LYiymWiNrB2p"
      },
      "source": [
        "---"
      ]
    },
    {
      "cell_type": "code",
      "metadata": {
        "id": "fVNkoF5L6rYo",
        "colab": {
          "base_uri": "https://localhost:8080/"
        },
        "outputId": "da3f6ff5-f59f-4bab-f6df-83df792b8049"
      },
      "source": [
        "from sklearn.model_selection import train_test_split #sklearn = ml\n",
        "from sklearn.metrics import mean_squared_error\n",
        "from sklearn.linear_model import LinearRegression\n",
        "import numpy as np\n",
        "\n",
        "R = 100000\n",
        "eqms = []\n",
        "\n",
        "for i in range(R):\n",
        "  # Separe os dados em teste e treino \n",
        "  Xtreino, Xteste, ytreino, yteste = train_test_split(X, y, test_size = 0.25)\n",
        "  #NAO USAR PARAMETRO PARA FIXAR, ISSO E ERRADO!!! O HOLDOUT APRESENTA ESSE PROBLEMA, POIS A RESPOSTA VARIA MUITO\n",
        "\n",
        "  # Ajuste do modelo nos dados de TREINO\n",
        "  regressao = LinearRegression()\n",
        "  regressao.fit(Xtreino, ytreino)\n",
        "  #treinei o modelo\n",
        "\n",
        "  # Utilize o modelo ajustado para predizer os dados de TESTE\n",
        "  preditos = regressao.predict(Xteste) \n",
        "  #testei o modelo\n",
        "\n",
        "  # Calcule o Erro Quadrático Médio nos dados de TESTE \n",
        "  eqm = mean_squared_error(yteste, preditos)\n",
        "  eqms.append(eqm)\n",
        "np.mean(eqms)\n",
        "#para R repeditocoes conseguimos uma resposta mais estavel(Holdout repetido)"
      ],
      "execution_count": null,
      "outputs": [
        {
          "output_type": "execute_result",
          "data": {
            "text/plain": [
              "50.47472510829052"
            ]
          },
          "metadata": {
            "tags": []
          },
          "execution_count": 75
        }
      ]
    }
  ]
}