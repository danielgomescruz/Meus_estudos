{
  "nbformat": 4,
  "nbformat_minor": 0,
  "metadata": {
    "colab": {
      "name": "Python_Analytics_1___Introdução_à_Linguagem_Python_dgc.ipynb",
      "provenance": [],
      "collapsed_sections": [
        "sM5DXML0uR6V",
        "UGNYSrALqEEo",
        "-IoZNNFnqGT0",
        "vrc7QNYCqMDV",
        "7sxhCBxxqRmT",
        "n163bbfyqbbE"
      ],
      "include_colab_link": true
    },
    "kernelspec": {
      "name": "python3",
      "display_name": "Python 3"
    },
    "language_info": {
      "name": "python"
    }
  },
  "cells": [
    {
      "cell_type": "markdown",
      "metadata": {
        "id": "view-in-github",
        "colab_type": "text"
      },
      "source": [
        "<a href=\"https://colab.research.google.com/github/danielgomescruz/Meus_estudos/blob/main/Python_Analytics_1___Introduc%CC%A7a%CC%83o_a%CC%80_Linguagem_Python_dgc.ipynb\" target=\"_parent\"><img src=\"https://colab.research.google.com/assets/colab-badge.svg\" alt=\"Open In Colab\"/></a>"
      ]
    },
    {
      "cell_type": "markdown",
      "metadata": {
        "id": "Chd8JptSmjLC"
      },
      "source": [
        "![picture](https://minerador.es/wp-content/uploads/2020/10/sticky-lg.png)"
      ]
    },
    {
      "cell_type": "markdown",
      "metadata": {
        "id": "uyJhqvVvml-B"
      },
      "source": [
        "# Python Analytics #1 | **Introdução à Linguagem Python**\n",
        "*Prof. Orlando Junior*"
      ]
    },
    {
      "cell_type": "markdown",
      "metadata": {
        "id": "HOiUs-2QLSLr"
      },
      "source": [
        "---"
      ]
    },
    {
      "cell_type": "markdown",
      "metadata": {
        "id": "zE_UbFWNLSoA"
      },
      "source": [
        "**Conteúdo**\n",
        "\n",
        "1. O que é Python?\n",
        "2. Variáveis e tipos de dados\n",
        "3. Comandos de entrada e saída\n",
        "4. Operadores e operações\n",
        "5. Métodos, procedimentos e funções\n",
        "6. Estruturas de seleção\n",
        "7. Estruturas de repetição\n",
        "8. Exercícios"
      ]
    },
    {
      "cell_type": "markdown",
      "metadata": {
        "id": "qE3hPuOELS5h"
      },
      "source": [
        "---"
      ]
    },
    {
      "cell_type": "markdown",
      "metadata": {
        "id": "sM5DXML0uR6V"
      },
      "source": [
        "## O que é Python?"
      ]
    },
    {
      "cell_type": "markdown",
      "metadata": {
        "id": "G1IiUQgKoZ_v"
      },
      "source": [
        "> Python é uma linguagem de programação poderosa e fácil de aprender. Ela possui estruturas de dados eficientes em alto nível e uma abordagem efetiva simples para a programação orientada a objetos.A sintaxe elegante e a tipagem dinâmica do Python, junto com sua natureza interpretada, tornam-no uma linguagem ideal para scripts e desenvolvimento rápido de aplicativos em muitas áreas na maioria das plataformas."
      ]
    },
    {
      "cell_type": "markdown",
      "metadata": {
        "id": "A6xSuJh3oa4u"
      },
      "source": [
        "**Características**\n",
        "* Simples e minimalista\n",
        "* Fácil de aprender\n",
        "* Grátis e de código aberto\n",
        "* Linguagem de alto nível\n",
        "* Portável\n",
        "* Interpretada\n",
        "* Orientada a objetos\n",
        "* Extensível\n",
        "* Embarcável"
      ]
    },
    {
      "cell_type": "markdown",
      "metadata": {
        "id": "bFK_lYP9pbOU"
      },
      "source": [
        "*I came to Python not because I thought it was a better/acceptable/pragmatic Lisp, but because it was better pseudocode.*\n",
        "\n",
        "-- Peter Norvig, diretor de pesquisa da Google"
      ]
    },
    {
      "cell_type": "markdown",
      "metadata": {
        "id": "UGNYSrALqEEo"
      },
      "source": [
        "## Variáveis e tipos de dados"
      ]
    },
    {
      "cell_type": "markdown",
      "metadata": {
        "id": "jTDTz5fCqZLL"
      },
      "source": [
        "Quando especificamos um `algoritmo`, detalhamos os `dados` que serão processados e as `instruções` (ou comandos), que comandam o funcionamento da máquina e determinam como os dados devem ser manipulados."
      ]
    },
    {
      "cell_type": "markdown",
      "metadata": {
        "id": "F0LD7Xi1HKaC"
      },
      "source": [
        "* **Variáveis** são espaços reservados na memória para armazenar os dados;\n",
        "* Elas possuem nome único que as identifica e um valor;\n",
        "* Uma variável também possui um **tipo de dado** correspondente ao valor que será armazenado."
      ]
    },
    {
      "cell_type": "markdown",
      "metadata": {
        "id": "yNn93VQ8kVSv"
      },
      "source": [
        "**Regras**\n",
        "1. Não pode começar com números;\n",
        "2. Não pode conter espaços em branco;\n",
        "3. Não pode conter caracteres especiais (#, ?, !, @, +, -,...);\n",
        "4. Não pode ser uma palavra reservada da linguagem."
      ]
    },
    {
      "cell_type": "markdown",
      "metadata": {
        "id": "IVtvGR0uF8ZD"
      },
      "source": [
        "**Tipo de dado: inteiro**"
      ]
    },
    {
      "cell_type": "code",
      "metadata": {
        "id": "jAytdsPIlpTH"
      },
      "source": [
        "idade = 26"
      ],
      "execution_count": 1,
      "outputs": []
    },
    {
      "cell_type": "code",
      "metadata": {
        "id": "woaA3uCtJHqx",
        "colab": {
          "base_uri": "https://localhost:8080/"
        },
        "outputId": "b47e4e08-6564-4d02-be34-47352d9b0b8b"
      },
      "source": [
        "idade"
      ],
      "execution_count": 2,
      "outputs": [
        {
          "output_type": "execute_result",
          "data": {
            "text/plain": [
              "26"
            ]
          },
          "metadata": {
            "tags": []
          },
          "execution_count": 2
        }
      ]
    },
    {
      "cell_type": "markdown",
      "metadata": {
        "id": "qUpd8r3vGAtp"
      },
      "source": [
        "**Tipo de dado: real**"
      ]
    },
    {
      "cell_type": "code",
      "metadata": {
        "id": "DX4NQLyFGBHS"
      },
      "source": [
        "salario = 8716.98"
      ],
      "execution_count": null,
      "outputs": []
    },
    {
      "cell_type": "code",
      "metadata": {
        "id": "HyMQisxCJKB5"
      },
      "source": [
        "salario"
      ],
      "execution_count": null,
      "outputs": []
    },
    {
      "cell_type": "markdown",
      "metadata": {
        "id": "5FvtSUXHGIIa"
      },
      "source": [
        "**Tipo de dado: caractere**"
      ]
    },
    {
      "cell_type": "code",
      "metadata": {
        "id": "jFlndlaDGINL"
      },
      "source": [
        "sexo = 'F'"
      ],
      "execution_count": 3,
      "outputs": []
    },
    {
      "cell_type": "code",
      "metadata": {
        "id": "aQ_s01jDJLjB"
      },
      "source": [
        "sexo"
      ],
      "execution_count": null,
      "outputs": []
    },
    {
      "cell_type": "markdown",
      "metadata": {
        "id": "O4EbNWliGEYy"
      },
      "source": [
        "**Tipo de dado: cadeia de caracteres**"
      ]
    },
    {
      "cell_type": "code",
      "metadata": {
        "id": "0M9E5mCfGEg7"
      },
      "source": [
        "nome = \"João Carlos\""
      ],
      "execution_count": 4,
      "outputs": []
    },
    {
      "cell_type": "code",
      "metadata": {
        "id": "Vtz4Edw-JNJI",
        "colab": {
          "base_uri": "https://localhost:8080/",
          "height": 35
        },
        "outputId": "eaa35225-3551-4b08-f76a-09787ddf68f0"
      },
      "source": [
        "nome"
      ],
      "execution_count": 5,
      "outputs": [
        {
          "output_type": "execute_result",
          "data": {
            "application/vnd.google.colaboratory.intrinsic+json": {
              "type": "string"
            },
            "text/plain": [
              "'João Carlos'"
            ]
          },
          "metadata": {
            "tags": []
          },
          "execution_count": 5
        }
      ]
    },
    {
      "cell_type": "code",
      "metadata": {
        "id": "sd0EIri_mLlv",
        "colab": {
          "base_uri": "https://localhost:8080/",
          "height": 35
        },
        "outputId": "bbe75074-4bcf-41f3-9f68-47816b1b1a96"
      },
      "source": [
        "nome[0:4]"
      ],
      "execution_count": 6,
      "outputs": [
        {
          "output_type": "execute_result",
          "data": {
            "application/vnd.google.colaboratory.intrinsic+json": {
              "type": "string"
            },
            "text/plain": [
              "'João'"
            ]
          },
          "metadata": {
            "tags": []
          },
          "execution_count": 6
        }
      ]
    },
    {
      "cell_type": "code",
      "metadata": {
        "id": "UbtoxZ2zmcn3",
        "colab": {
          "base_uri": "https://localhost:8080/",
          "height": 35
        },
        "outputId": "0e40c300-d800-4bb9-ad2a-99fc1bead71c"
      },
      "source": [
        "nome + ' Pereira'"
      ],
      "execution_count": 7,
      "outputs": [
        {
          "output_type": "execute_result",
          "data": {
            "application/vnd.google.colaboratory.intrinsic+json": {
              "type": "string"
            },
            "text/plain": [
              "'João Carlos Pereira'"
            ]
          },
          "metadata": {
            "tags": []
          },
          "execution_count": 7
        }
      ]
    },
    {
      "cell_type": "code",
      "metadata": {
        "id": "73X1IBgemWFn",
        "colab": {
          "base_uri": "https://localhost:8080/",
          "height": 35
        },
        "outputId": "d0450b96-d46c-4085-b050-89e065b7312d"
      },
      "source": [
        "nome * 2"
      ],
      "execution_count": 8,
      "outputs": [
        {
          "output_type": "execute_result",
          "data": {
            "application/vnd.google.colaboratory.intrinsic+json": {
              "type": "string"
            },
            "text/plain": [
              "'João CarlosJoão Carlos'"
            ]
          },
          "metadata": {
            "tags": []
          },
          "execution_count": 8
        }
      ]
    },
    {
      "cell_type": "markdown",
      "metadata": {
        "id": "ABjEuUe1GEm5"
      },
      "source": [
        "**Tipo de dado: lógico**"
      ]
    },
    {
      "cell_type": "code",
      "metadata": {
        "id": "F5kFYRQ8GEq-",
        "colab": {
          "base_uri": "https://localhost:8080/"
        },
        "outputId": "1baf3de2-42c0-4d23-eb31-23fdba4c815d"
      },
      "source": [
        "tem_carro = False\n",
        "tem_carro"
      ],
      "execution_count": 9,
      "outputs": [
        {
          "output_type": "execute_result",
          "data": {
            "text/plain": [
              "False"
            ]
          },
          "metadata": {
            "tags": []
          },
          "execution_count": 9
        }
      ]
    },
    {
      "cell_type": "code",
      "metadata": {
        "id": "WKPem1vzIQWK",
        "colab": {
          "base_uri": "https://localhost:8080/"
        },
        "outputId": "218ccc9c-d0b2-4881-e3be-e7579e9b09f4"
      },
      "source": [
        "tem_casa = True\n",
        "tem_casa"
      ],
      "execution_count": 10,
      "outputs": [
        {
          "output_type": "execute_result",
          "data": {
            "text/plain": [
              "True"
            ]
          },
          "metadata": {
            "tags": []
          },
          "execution_count": 10
        }
      ]
    },
    {
      "cell_type": "markdown",
      "metadata": {
        "id": "vKnqhdqeIFsE"
      },
      "source": [
        "**Formas de atribuição de valores**"
      ]
    },
    {
      "cell_type": "code",
      "metadata": {
        "id": "3WCTDzQMILSj"
      },
      "source": [
        "x = 1 + 2"
      ],
      "execution_count": 11,
      "outputs": []
    },
    {
      "cell_type": "code",
      "metadata": {
        "id": "faW3hYkVI_Vp"
      },
      "source": [
        "x = y = 10000"
      ],
      "execution_count": 12,
      "outputs": []
    },
    {
      "cell_type": "code",
      "metadata": {
        "id": "BuEeLixmIF85"
      },
      "source": [
        "a, b, c = 10, 20, 30"
      ],
      "execution_count": 13,
      "outputs": []
    },
    {
      "cell_type": "markdown",
      "metadata": {
        "id": "-IoZNNFnqGT0"
      },
      "source": [
        "## Comandos de entrada e saída"
      ]
    },
    {
      "cell_type": "markdown",
      "metadata": {
        "id": "062Zq1m1q8XK"
      },
      "source": [
        "Os algoritmos precisam ser alimentados com dados provenientes do meio externo para efetuarem as operações e cálculos. Também é necessário mostrar os resultados aos usuários ou a outros processos."
      ]
    },
    {
      "cell_type": "markdown",
      "metadata": {
        "id": "hbE7mMDjqJON"
      },
      "source": [
        "**Entrada de dados**"
      ]
    },
    {
      "cell_type": "code",
      "metadata": {
        "id": "lkJaaDf3rFh7"
      },
      "source": [
        "nome = input(\"Digite seu nome: \")"
      ],
      "execution_count": null,
      "outputs": []
    },
    {
      "cell_type": "code",
      "metadata": {
        "id": "LV-aANxprS__"
      },
      "source": [
        "idade = int(input(\"Digite sua idade: \"))"
      ],
      "execution_count": null,
      "outputs": []
    },
    {
      "cell_type": "code",
      "metadata": {
        "id": "SjWMsMcerZj5",
        "colab": {
          "base_uri": "https://localhost:8080/"
        },
        "outputId": "68caba7b-818c-48b9-80f5-90b4df37f599"
      },
      "source": [
        "salario = float(input(\"Digite seu salário: \"))"
      ],
      "execution_count": 18,
      "outputs": [
        {
          "output_type": "stream",
          "text": [
            "Digite seu salário: 8766\n"
          ],
          "name": "stdout"
        }
      ]
    },
    {
      "cell_type": "markdown",
      "metadata": {
        "id": "fxEE95BnrFsH"
      },
      "source": [
        "**Saída de dados**"
      ]
    },
    {
      "cell_type": "code",
      "metadata": {
        "id": "ms8As7XRrFwV",
        "colab": {
          "base_uri": "https://localhost:8080/"
        },
        "outputId": "f0747724-d2ec-46c3-ff46-5c16b5b1018b"
      },
      "source": [
        "print(nome)"
      ],
      "execution_count": 14,
      "outputs": [
        {
          "output_type": "stream",
          "text": [
            "João Carlos\n"
          ],
          "name": "stdout"
        }
      ]
    },
    {
      "cell_type": "code",
      "metadata": {
        "id": "JdXIeQygsycE",
        "colab": {
          "base_uri": "https://localhost:8080/"
        },
        "outputId": "d9b41c9e-b2ff-4841-c5c0-4e616095ef3b"
      },
      "source": [
        "print(\"Nome: \", nome)"
      ],
      "execution_count": 15,
      "outputs": [
        {
          "output_type": "stream",
          "text": [
            "Nome:  João Carlos\n"
          ],
          "name": "stdout"
        }
      ]
    },
    {
      "cell_type": "code",
      "metadata": {
        "id": "2cfQ0BvEm0KZ",
        "colab": {
          "base_uri": "https://localhost:8080/"
        },
        "outputId": "4911728e-7322-4f48-cff9-96c22956f209"
      },
      "source": [
        "print(\"Idade: \", end='')\n",
        "print(idade)"
      ],
      "execution_count": 16,
      "outputs": [
        {
          "output_type": "stream",
          "text": [
            "Idade: 26\n"
          ],
          "name": "stdout"
        }
      ]
    },
    {
      "cell_type": "code",
      "metadata": {
        "id": "jiHsPa-xs6pU",
        "colab": {
          "base_uri": "https://localhost:8080/"
        },
        "outputId": "333571f6-3c25-407b-9ed2-de895c3a0171"
      },
      "source": [
        "print(\"Salário: %.2f\" % salario) #% = casas decimais"
      ],
      "execution_count": 21,
      "outputs": [
        {
          "output_type": "stream",
          "text": [
            "Salário: 8766.00\n"
          ],
          "name": "stdout"
        }
      ]
    },
    {
      "cell_type": "code",
      "metadata": {
        "id": "u7GoIvq6tEUF",
        "colab": {
          "base_uri": "https://localhost:8080/"
        },
        "outputId": "bdf4fb81-ee8f-43dc-ffbd-9036ccf3385d"
      },
      "source": [
        "print(\"Meu nome é {0}, eu tenho {1} anos e ganho R$ {2} por mês.\".format(nome, idade, salario))"
      ],
      "execution_count": 20,
      "outputs": [
        {
          "output_type": "stream",
          "text": [
            "Meu nome é João Carlos, eu tenho 26 anos e ganho R$ 8766.0 por mês.\n"
          ],
          "name": "stdout"
        }
      ]
    },
    {
      "cell_type": "markdown",
      "metadata": {
        "id": "vrc7QNYCqMDV"
      },
      "source": [
        "## Operadores e operações"
      ]
    },
    {
      "cell_type": "markdown",
      "metadata": {
        "id": "NC3YGraUtsD1"
      },
      "source": [
        "`Operadores` manipulam o valor dos `operandos` e executam `operações`."
      ]
    },
    {
      "cell_type": "markdown",
      "metadata": {
        "id": "PJSExHGMtw0G"
      },
      "source": [
        "**Operadores aritméticos**"
      ]
    },
    {
      "cell_type": "code",
      "metadata": {
        "id": "Pkprh-drqQ9b"
      },
      "source": [
        "# Soma\n",
        "a = 1 + 2\n",
        "print(a)"
      ],
      "execution_count": null,
      "outputs": []
    },
    {
      "cell_type": "code",
      "metadata": {
        "id": "lseDoi4qt6Bd",
        "colab": {
          "base_uri": "https://localhost:8080/"
        },
        "outputId": "e89b4ee8-4bac-4ef5-8239-8db9df031b9f"
      },
      "source": [
        "# Subtração\n",
        "b = 2 - 1\n",
        "print(b)"
      ],
      "execution_count": 25,
      "outputs": [
        {
          "output_type": "stream",
          "text": [
            "1\n"
          ],
          "name": "stdout"
        }
      ]
    },
    {
      "cell_type": "code",
      "metadata": {
        "id": "GQ2JiU7Mt-WL",
        "colab": {
          "base_uri": "https://localhost:8080/"
        },
        "outputId": "07f8f58f-f964-43d6-995f-1afe874d9b7e"
      },
      "source": [
        "# Multiplicação\n",
        "c = 2 * 3.5\n",
        "print(c)"
      ],
      "execution_count": 24,
      "outputs": [
        {
          "output_type": "stream",
          "text": [
            "7.0\n"
          ],
          "name": "stdout"
        }
      ]
    },
    {
      "cell_type": "code",
      "metadata": {
        "id": "z3_olJwAt8lK",
        "colab": {
          "base_uri": "https://localhost:8080/"
        },
        "outputId": "6b182a5a-204f-4936-ed82-7f13b54dfd7e"
      },
      "source": [
        "# Divisão\n",
        "d = 4 / 2\n",
        "print(d)"
      ],
      "execution_count": 23,
      "outputs": [
        {
          "output_type": "stream",
          "text": [
            "2.0\n"
          ],
          "name": "stdout"
        }
      ]
    },
    {
      "cell_type": "code",
      "metadata": {
        "id": "9TOmck0GuDOL",
        "colab": {
          "base_uri": "https://localhost:8080/"
        },
        "outputId": "1a5254fa-c55b-4ec4-9c89-250614d357ff"
      },
      "source": [
        "# Resto da divisão de números inteiros\n",
        "e = 10 % 3\n",
        "print(e)"
      ],
      "execution_count": 22,
      "outputs": [
        {
          "output_type": "stream",
          "text": [
            "1\n"
          ],
          "name": "stdout"
        }
      ]
    },
    {
      "cell_type": "code",
      "metadata": {
        "id": "P3ekb5jquOtT",
        "colab": {
          "base_uri": "https://localhost:8080/"
        },
        "outputId": "be63be8c-1387-4fe2-9c75-5e86f0a72732"
      },
      "source": [
        "# Divisão de ponto flutuante\n",
        "# Devolve a parte inteira\n",
        "f = 9.0 // 2.0\n",
        "print(f)"
      ],
      "execution_count": 26,
      "outputs": [
        {
          "output_type": "stream",
          "text": [
            "4.0\n"
          ],
          "name": "stdout"
        }
      ]
    },
    {
      "cell_type": "code",
      "metadata": {
        "id": "vi9d4GB9uq3E",
        "colab": {
          "base_uri": "https://localhost:8080/"
        },
        "outputId": "51b3ea7f-b670-4ff6-c3be-cde62db9a634"
      },
      "source": [
        "# Exponenciação\n",
        "g = 3 ** 2\n",
        "print(g)"
      ],
      "execution_count": 27,
      "outputs": [
        {
          "output_type": "stream",
          "text": [
            "9\n"
          ],
          "name": "stdout"
        }
      ]
    },
    {
      "cell_type": "markdown",
      "metadata": {
        "id": "QSjPXn3mvhU2"
      },
      "source": [
        "**Operadores relacionais**"
      ]
    },
    {
      "cell_type": "code",
      "metadata": {
        "id": "14wp-KVXvq1U",
        "colab": {
          "base_uri": "https://localhost:8080/"
        },
        "outputId": "36ec4beb-7604-46ff-dcff-2a98c23ab03a"
      },
      "source": [
        "resposta = (1 == 1)\n",
        "print(resposta)"
      ],
      "execution_count": 28,
      "outputs": [
        {
          "output_type": "stream",
          "text": [
            "True\n"
          ],
          "name": "stdout"
        }
      ]
    },
    {
      "cell_type": "code",
      "metadata": {
        "id": "5YpVTgePvrGb",
        "colab": {
          "base_uri": "https://localhost:8080/"
        },
        "outputId": "650df9e5-4372-4868-967f-bc2e066087c0"
      },
      "source": [
        "resposta = (1 == 2)\n",
        "print(resposta)"
      ],
      "execution_count": 29,
      "outputs": [
        {
          "output_type": "stream",
          "text": [
            "False\n"
          ],
          "name": "stdout"
        }
      ]
    },
    {
      "cell_type": "code",
      "metadata": {
        "id": "kcTOycxtvrJd",
        "colab": {
          "base_uri": "https://localhost:8080/"
        },
        "outputId": "82a7ac65-1f86-488d-fd09-98c51c1f6177"
      },
      "source": [
        "resposta = (1 != 2)\n",
        "print(resposta)"
      ],
      "execution_count": 30,
      "outputs": [
        {
          "output_type": "stream",
          "text": [
            "True\n"
          ],
          "name": "stdout"
        }
      ]
    },
    {
      "cell_type": "code",
      "metadata": {
        "id": "amwWOC89wCfc"
      },
      "source": [
        "resposta = (1 > 2)\n",
        "print(resposta)"
      ],
      "execution_count": null,
      "outputs": []
    },
    {
      "cell_type": "code",
      "metadata": {
        "id": "UnyBlBPBwEFD",
        "colab": {
          "base_uri": "https://localhost:8080/"
        },
        "outputId": "7bc8c14b-04a4-46c3-99c0-5fda66d49065"
      },
      "source": [
        "resposta = (1 < 2)\n",
        "print(resposta)"
      ],
      "execution_count": 31,
      "outputs": [
        {
          "output_type": "stream",
          "text": [
            "True\n"
          ],
          "name": "stdout"
        }
      ]
    },
    {
      "cell_type": "code",
      "metadata": {
        "id": "b3-ijuhLwH4b",
        "colab": {
          "base_uri": "https://localhost:8080/"
        },
        "outputId": "d25aedf5-ea38-40cc-a6e5-938128e3fb6d"
      },
      "source": [
        "resposta = (1 >= 2)\n",
        "print(resposta)"
      ],
      "execution_count": 32,
      "outputs": [
        {
          "output_type": "stream",
          "text": [
            "False\n"
          ],
          "name": "stdout"
        }
      ]
    },
    {
      "cell_type": "code",
      "metadata": {
        "id": "UJHmZlrFwIWk",
        "colab": {
          "base_uri": "https://localhost:8080/"
        },
        "outputId": "6c89f423-7758-4b56-8416-393eaa59b45c"
      },
      "source": [
        "resposta = (2 <= 2)\n",
        "print(resposta)"
      ],
      "execution_count": 33,
      "outputs": [
        {
          "output_type": "stream",
          "text": [
            "True\n"
          ],
          "name": "stdout"
        }
      ]
    },
    {
      "cell_type": "markdown",
      "metadata": {
        "id": "t2K0hewXwbYl"
      },
      "source": [
        "**Operadores lógicos**"
      ]
    },
    {
      "cell_type": "code",
      "metadata": {
        "id": "LJRYR-ulyVnh",
        "colab": {
          "base_uri": "https://localhost:8080/"
        },
        "outputId": "887d0ff6-29a4-49f5-eb79-04f75e7c1a20"
      },
      "source": [
        "print(\"NÃO (Verdadeiro): \", not True)\n",
        "print(\"NÃO (Falso)     : \", not False)"
      ],
      "execution_count": 34,
      "outputs": [
        {
          "output_type": "stream",
          "text": [
            "NÃO (Verdadeiro):  False\n",
            "NÃO (Falso)     :  True\n"
          ],
          "name": "stdout"
        }
      ]
    },
    {
      "cell_type": "code",
      "metadata": {
        "id": "7pCT-_rSwdac",
        "colab": {
          "base_uri": "https://localhost:8080/"
        },
        "outputId": "8dc7fada-2f81-4491-ea76-67de4b3552c3"
      },
      "source": [
        "print(\"(Verdadeiro) E (Verdadeiro): \", True and True)\n",
        "print(\"(Verdadeiro) E (Falso)     : \", True and False)\n",
        "print(\"(Falso)      E (Verdadeiro): \", False and True)\n",
        "print(\"(Falso)      E (Falso)     : \", False and False)"
      ],
      "execution_count": 35,
      "outputs": [
        {
          "output_type": "stream",
          "text": [
            "(Verdadeiro) E (Verdadeiro):  True\n",
            "(Verdadeiro) E (Falso)     :  False\n",
            "(Falso)      E (Verdadeiro):  False\n",
            "(Falso)      E (Falso)     :  False\n"
          ],
          "name": "stdout"
        }
      ]
    },
    {
      "cell_type": "code",
      "metadata": {
        "id": "9m49BvX5x157",
        "colab": {
          "base_uri": "https://localhost:8080/"
        },
        "outputId": "adeb9135-08bc-4a8c-d973-4361425a5ac3"
      },
      "source": [
        "print(\"(Verdadeiro) OU (Verdadeiro): \", True and True)\n",
        "print(\"(Verdadeiro) OU (Falso)     : \", True and False)\n",
        "print(\"(Falso)      OU (Verdadeiro): \", False and True)\n",
        "print(\"(Falso)      OU (Falso)     : \", False and False)"
      ],
      "execution_count": 36,
      "outputs": [
        {
          "output_type": "stream",
          "text": [
            "(Verdadeiro) OU (Verdadeiro):  True\n",
            "(Verdadeiro) OU (Falso)     :  False\n",
            "(Falso)      OU (Verdadeiro):  False\n",
            "(Falso)      OU (Falso)     :  False\n"
          ],
          "name": "stdout"
        }
      ]
    },
    {
      "cell_type": "markdown",
      "metadata": {
        "id": "7sxhCBxxqRmT"
      },
      "source": [
        "## Métodos, procedimentos e funções"
      ]
    },
    {
      "cell_type": "markdown",
      "metadata": {
        "id": "rS_oUPpWqXlm"
      },
      "source": [
        "Um algoritmo pode ser simplificado quando dividido em vários `métodos`, que podem ser classificados em `procedimentos` (sem retorno de valor) e `funções` (com retorno de valor). A principal vantagem da construção e utilização de métodos é a possibilidade de reutilizá-los diversas vezes ao longo do código."
      ]
    },
    {
      "cell_type": "markdown",
      "metadata": {
        "id": "Smq7bWwT1KCy"
      },
      "source": [
        "**Procedimentos**"
      ]
    },
    {
      "cell_type": "code",
      "metadata": {
        "id": "DWAtBzAvqUPk"
      },
      "source": [
        "# Definição\n",
        "def cumprimenta():\n",
        "  print(\"Olá, tudo bem?\")\n",
        "  print('Meu nome é Daniel!')"
      ],
      "execution_count": 41,
      "outputs": []
    },
    {
      "cell_type": "code",
      "metadata": {
        "id": "Vc03fp1pqURy",
        "colab": {
          "base_uri": "https://localhost:8080/"
        },
        "outputId": "3d097db2-ec3c-41b9-c1eb-13a99d2485aa"
      },
      "source": [
        "# Utilização\n",
        "cumprimenta()"
      ],
      "execution_count": 42,
      "outputs": [
        {
          "output_type": "stream",
          "text": [
            "Olá, tudo bem?\n",
            "Meu nome é Daniel!\n"
          ],
          "name": "stdout"
        }
      ]
    },
    {
      "cell_type": "code",
      "metadata": {
        "id": "2X3FtG6cqUUn"
      },
      "source": [
        "# Definição com parâmetros\n",
        "def cumprimentaComNome(nome):\n",
        "  print(\"Olá, {0}! Tudo bem com você?\".format(nome))"
      ],
      "execution_count": 43,
      "outputs": []
    },
    {
      "cell_type": "code",
      "metadata": {
        "id": "VIjD6H5O16Fg",
        "colab": {
          "base_uri": "https://localhost:8080/"
        },
        "outputId": "9b5feb72-0bfc-4a72-89d1-0fa22b0308a5"
      },
      "source": [
        "# Utilização\n",
        "cumprimentaComNome(\"João\")"
      ],
      "execution_count": 44,
      "outputs": [
        {
          "output_type": "stream",
          "text": [
            "Olá, João! Tudo bem com você?\n"
          ],
          "name": "stdout"
        }
      ]
    },
    {
      "cell_type": "markdown",
      "metadata": {
        "id": "rN1idN6bqUfj"
      },
      "source": [
        "**Funções**"
      ]
    },
    {
      "cell_type": "code",
      "metadata": {
        "id": "2jnGTyNf1WA2"
      },
      "source": [
        "# Definição\n",
        "def soma(x, y):\n",
        "  return x + y"
      ],
      "execution_count": 45,
      "outputs": []
    },
    {
      "cell_type": "code",
      "metadata": {
        "id": "sComVMvf5tdo",
        "colab": {
          "base_uri": "https://localhost:8080/"
        },
        "outputId": "6929f849-ebe2-42f6-abf0-bd260533545f"
      },
      "source": [
        "# Utilização\n",
        "print(soma(10, 20))\n",
        "print(soma(20, 30))\n",
        "print(soma(30, 40))\n",
        "print(soma(40, 50))"
      ],
      "execution_count": 46,
      "outputs": [
        {
          "output_type": "stream",
          "text": [
            "30\n",
            "50\n",
            "70\n",
            "90\n"
          ],
          "name": "stdout"
        }
      ]
    },
    {
      "cell_type": "code",
      "metadata": {
        "id": "SO3aTqHw5zg3",
        "colab": {
          "base_uri": "https://localhost:8080/"
        },
        "outputId": "b810ba83-1838-42a6-c812-813be6c64f39"
      },
      "source": [
        "resultado = soma(soma(10, 20), soma(100, 200))\n",
        "print(resultado)"
      ],
      "execution_count": 47,
      "outputs": [
        {
          "output_type": "stream",
          "text": [
            "330\n"
          ],
          "name": "stdout"
        }
      ]
    },
    {
      "cell_type": "markdown",
      "metadata": {
        "id": "n163bbfyqbbE"
      },
      "source": [
        "## Estruturas de seleção"
      ]
    },
    {
      "cell_type": "markdown",
      "metadata": {
        "id": "ZNtPIqOf95up"
      },
      "source": [
        "A tomada de decisão é a antecipação das condições que ocorrem durante a execução do programa e a especificação das ações executadas de acordo com as condições. As estruturas de seleção avaliam várias expressões que produzem VERDADEIRO ou FALSO como resultado. Você precisa determinar qual ação tomar e quais instruções executar se o resultado for VERDADEIRO ou FALSO."
      ]
    },
    {
      "cell_type": "markdown",
      "metadata": {
        "id": "e2NDzmS2G-kK"
      },
      "source": [
        "![picture](https://upload.wikimedia.org/wikipedia/commons/4/46/LampFlowchart_pt.svg)"
      ]
    },
    {
      "cell_type": "markdown",
      "metadata": {
        "id": "vSFUaiIoBavf"
      },
      "source": [
        "**Estrutura SE (if)**"
      ]
    },
    {
      "cell_type": "code",
      "metadata": {
        "id": "jXJGFLLJqdEv",
        "colab": {
          "base_uri": "https://localhost:8080/"
        },
        "outputId": "b29c4fb7-d398-4a00-8959-e5e4c8ebd013"
      },
      "source": [
        "salario = 1200.00\n",
        "if (salario < 2000):\n",
        "  print(\"Você pode ganhar mais!\")"
      ],
      "execution_count": 48,
      "outputs": [
        {
          "output_type": "stream",
          "text": [
            "Você pode ganhar mais!\n"
          ],
          "name": "stdout"
        }
      ]
    },
    {
      "cell_type": "code",
      "metadata": {
        "id": "cMwed9UMCqvU",
        "colab": {
          "base_uri": "https://localhost:8080/"
        },
        "outputId": "172f4391-b3f7-4892-916d-d39c3ed0479d"
      },
      "source": [
        "#AND\n",
        "idade = 20\n",
        "salario = 1200.00\n",
        "\n",
        "if (idade >= 18 and salario < 2000):\n",
        "  print(\"Você é jovem e pode ganhar mais!\")"
      ],
      "execution_count": 49,
      "outputs": [
        {
          "output_type": "stream",
          "text": [
            "Você é jovem e pode ganhar mais!\n"
          ],
          "name": "stdout"
        }
      ]
    },
    {
      "cell_type": "markdown",
      "metadata": {
        "id": "TBdLh_ExBiW-"
      },
      "source": [
        "**Estrutura SE-SENÃO (if-else)**"
      ]
    },
    {
      "cell_type": "code",
      "metadata": {
        "id": "7j7ioWh8Bs7T",
        "colab": {
          "base_uri": "https://localhost:8080/"
        },
        "outputId": "503a1bc0-fdd2-4251-fbef-088052eca60d"
      },
      "source": [
        "idade = 30\n",
        "salario = 1999.00\n",
        "\n",
        "if (idade >= 18 and salario < 2000):\n",
        "  print(\"Você é jovem e pode ganhar mais!\")\n",
        "else:\n",
        "  print(\"Você está ganhando muito bem!\")"
      ],
      "execution_count": 52,
      "outputs": [
        {
          "output_type": "stream",
          "text": [
            "Você é jovem e pode ganhar mais!\n"
          ],
          "name": "stdout"
        }
      ]
    },
    {
      "cell_type": "markdown",
      "metadata": {
        "id": "7ShonfWOBtI8"
      },
      "source": [
        "**Estruturas aninhadas (if-elif-else)**"
      ]
    },
    {
      "cell_type": "code",
      "metadata": {
        "id": "zKRX63NyBtVU",
        "colab": {
          "base_uri": "https://localhost:8080/"
        },
        "outputId": "c3352b07-26bb-4678-f701-7acc02d84990"
      },
      "source": [
        "idade = 14\n",
        "salario = 4000.00\n",
        "\n",
        "if (idade < 18):\n",
        "  print(\"Você não deveria estar trabalhando!\")\n",
        "elif (idade >= 18 and salario < 2000):\n",
        "  print(\"Você é jovem e pode ganhar mais!\")\n",
        "else:\n",
        "  print(\"Você está ganhando muito bem!\")"
      ],
      "execution_count": 53,
      "outputs": [
        {
          "output_type": "stream",
          "text": [
            "Você não deveria estar trabalhando!\n"
          ],
          "name": "stdout"
        }
      ]
    },
    {
      "cell_type": "markdown",
      "metadata": {
        "id": "29Y8bnFBqhrU"
      },
      "source": [
        "## Estruturas de repetição"
      ]
    },
    {
      "cell_type": "markdown",
      "metadata": {
        "id": "vdblln3nGeIz"
      },
      "source": [
        "Em geral, as instruções são executadas sequencialmente. Porém, podem haver situações em que você precise executar um bloco de código várias vezes. Uma estrutura de repetição (*loop* ou laço) nos permite executar uma instrução ou grupo de instruções várias vezes."
      ]
    },
    {
      "cell_type": "markdown",
      "metadata": {
        "id": "1zHCGtiTIW9b"
      },
      "source": [
        "* **Laços contados:** utiliza um contador que auxiliará no laço, possibilitando a repetição da estrutura até que o contador atinja o limite determinado na condição;\n",
        "* **Laços condicionais:** o valor é desconhecido e devemos utilizar uma variável com valor pré-definido em uma condição dentro do laço para finalizarmos a repetição."
      ]
    },
    {
      "cell_type": "markdown",
      "metadata": {
        "id": "1POFRlfyHhbq"
      },
      "source": [
        "![picture](https://upload.wikimedia.org/wikipedia/commons/0/06/For-loop-diagram.png)"
      ]
    },
    {
      "cell_type": "markdown",
      "metadata": {
        "id": "jd99NctPJZtQ"
      },
      "source": [
        "Independente do tipo de estrutura de repetição, todos os laços são constituídos por três partes: \n",
        "1. Inicialização da variável de controle;\n",
        "2. Condição;\n",
        "3. Atualização da variável de controle."
      ]
    },
    {
      "cell_type": "markdown",
      "metadata": {
        "id": "FzhPzdzlOZE7"
      },
      "source": [
        "**Laço PARA (for)**"
      ]
    },
    {
      "cell_type": "markdown",
      "metadata": {
        "id": "wopho9P_lDZR"
      },
      "source": [
        "Itera sobre os elementos de uma sequência, como uma lista um uma cadeia de caracteres."
      ]
    },
    {
      "cell_type": "code",
      "metadata": {
        "id": "hrzHAHBhGda8",
        "colab": {
          "base_uri": "https://localhost:8080/"
        },
        "outputId": "61050545-dc18-43b1-ca2a-c36fdd4b0d9d"
      },
      "source": [
        "# Percorre sobre um texto\n",
        "nome = \"João Carlos Pereira\"\n",
        "for c in nome:\n",
        "  print(c, end='-')"
      ],
      "execution_count": 54,
      "outputs": [
        {
          "output_type": "stream",
          "text": [
            "J-o-ã-o- -C-a-r-l-o-s- -P-e-r-e-i-r-a-"
          ],
          "name": "stdout"
        }
      ]
    },
    {
      "cell_type": "code",
      "metadata": {
        "id": "4N_xTVSHqi48",
        "colab": {
          "base_uri": "https://localhost:8080/"
        },
        "outputId": "7028c3d6-fb89-4500-e3c0-d7c5d8bf984e"
      },
      "source": [
        "# Imprime os números de 0 a 9\n",
        "# Função range: cria uma sequência de valores\n",
        "for n in range(10):\n",
        "  print(n, end=' ')"
      ],
      "execution_count": 55,
      "outputs": [
        {
          "output_type": "stream",
          "text": [
            "0 1 2 3 4 5 6 7 8 9 "
          ],
          "name": "stdout"
        }
      ]
    },
    {
      "cell_type": "code",
      "metadata": {
        "id": "awrHw4L_qi-Q",
        "colab": {
          "base_uri": "https://localhost:8080/"
        },
        "outputId": "9e461d21-b12d-412b-fd18-4212236c84e0"
      },
      "source": [
        "# Imprime os números de 5 a 15\n",
        "for n in range(5, 16):\n",
        "  print(n, end=' ')"
      ],
      "execution_count": 56,
      "outputs": [
        {
          "output_type": "stream",
          "text": [
            "5 6 7 8 9 10 11 12 13 14 15 "
          ],
          "name": "stdout"
        }
      ]
    },
    {
      "cell_type": "code",
      "metadata": {
        "id": "5QGQQ2Iunhrq",
        "colab": {
          "base_uri": "https://localhost:8080/"
        },
        "outputId": "c7b03924-26e4-40d4-f4ef-f141f7f6c2d0"
      },
      "source": [
        "# Imprime os números pares de 0 a 10\n",
        "for n in range(0, 11, 2):\n",
        "  print(n, end=' ')"
      ],
      "execution_count": 57,
      "outputs": [
        {
          "output_type": "stream",
          "text": [
            "0 2 4 6 8 10 "
          ],
          "name": "stdout"
        }
      ]
    },
    {
      "cell_type": "code",
      "metadata": {
        "id": "HH0GagztnZOQ",
        "colab": {
          "base_uri": "https://localhost:8080/"
        },
        "outputId": "80d0faf1-c808-46ae-ed94-a5f0b778aec6"
      },
      "source": [
        "# Imprime uma sequência de palavras\n",
        "salada_mista = ['maçã', 'banana', 'uva', 'pêra']\n",
        "for fruta in salada_mista:\n",
        "  print(fruta)"
      ],
      "execution_count": 58,
      "outputs": [
        {
          "output_type": "stream",
          "text": [
            "maçã\n",
            "banana\n",
            "uva\n",
            "pêra\n"
          ],
          "name": "stdout"
        }
      ]
    },
    {
      "cell_type": "code",
      "metadata": {
        "id": "tZskotPiqcGr",
        "colab": {
          "base_uri": "https://localhost:8080/"
        },
        "outputId": "0c381bbd-b7c0-4599-8960-1634c7aacba4"
      },
      "source": [
        "# Imprime uma sequência de palavras pelo índice da sequência\n",
        "lista_nomes = ['João', 'Maria', 'Carlos', 'Renata']\n",
        "for idx in range(len(lista_nomes)):\n",
        "  print(\"Índice: \", idx, end='\\t')\n",
        "  print(\"Nome:\", lista_nomes[idx])"
      ],
      "execution_count": 59,
      "outputs": [
        {
          "output_type": "stream",
          "text": [
            "Índice:  0\tNome: João\n",
            "Índice:  1\tNome: Maria\n",
            "Índice:  2\tNome: Carlos\n",
            "Índice:  3\tNome: Renata\n"
          ],
          "name": "stdout"
        }
      ]
    },
    {
      "cell_type": "markdown",
      "metadata": {
        "id": "ZhfQJ_pLj454"
      },
      "source": [
        "**Declaração BREAK**"
      ]
    },
    {
      "cell_type": "markdown",
      "metadata": {
        "id": "whPG0Yw8susG"
      },
      "source": [
        "Encerra o laço e segue para a próxima instrução fora da estrutura de repetição."
      ]
    },
    {
      "cell_type": "code",
      "metadata": {
        "id": "fumVUSmZj-lJ",
        "colab": {
          "base_uri": "https://localhost:8080/"
        },
        "outputId": "346a45b0-a3fd-44ac-ef40-a09c8aa13726"
      },
      "source": [
        "# Recebe uma lista de números entre 0 e 100 e\n",
        "# Imprime até o número 25, interrompendo o laço.\n",
        "for i in range(0, 101):  \n",
        "  if (i > 25):\n",
        "    break\n",
        "  print(i, end=' ')"
      ],
      "execution_count": 62,
      "outputs": [
        {
          "output_type": "stream",
          "text": [
            "0 1 2 3 4 5 6 7 8 9 10 11 12 13 14 15 16 17 18 19 20 21 22 23 24 25 "
          ],
          "name": "stdout"
        }
      ]
    },
    {
      "cell_type": "markdown",
      "metadata": {
        "id": "F1YbjaDlj-wo"
      },
      "source": [
        "**Declaração CONTINUE**"
      ]
    },
    {
      "cell_type": "markdown",
      "metadata": {
        "id": "QGmnpbNts3dl"
      },
      "source": [
        "Devolve o controle da repetição ao início do laço."
      ]
    },
    {
      "cell_type": "code",
      "metadata": {
        "id": "uFrLAfO_kCFA",
        "colab": {
          "base_uri": "https://localhost:8080/"
        },
        "outputId": "97687491-40be-47fb-88ba-0157563595bd"
      },
      "source": [
        "# Imprime os números pares entre 0 e 20\n",
        "for i in range(0, 21):\n",
        "  if (i % 2 != 0):\n",
        "    continue\n",
        "  print(i, end = ' ')"
      ],
      "execution_count": 65,
      "outputs": [
        {
          "output_type": "stream",
          "text": [
            "0 2 4 6 8 10 12 14 16 18 20 "
          ],
          "name": "stdout"
        }
      ]
    },
    {
      "cell_type": "markdown",
      "metadata": {
        "id": "J5twkgNuOmPv"
      },
      "source": [
        "**Estrutura ENQUANTO (while)**"
      ]
    },
    {
      "cell_type": "markdown",
      "metadata": {
        "id": "8P87BCZesiBQ"
      },
      "source": [
        "A condição é verificada antes da primeira execução do loop. Se a condição for falsa na 1ª vez que for avaliada, as instruções desse laço não serão executadas nenhuma vez."
      ]
    },
    {
      "cell_type": "code",
      "metadata": {
        "id": "vHmKHX8IOoYm",
        "colab": {
          "base_uri": "https://localhost:8080/"
        },
        "outputId": "c195f607-1986-4894-be5d-a8f4573b1b3c"
      },
      "source": [
        "# Loop contado\n",
        "contador = 1\n",
        "while contador <= 25:\n",
        "  print(contador, end=' ')\n",
        "  contador = contador + 1"
      ],
      "execution_count": 66,
      "outputs": [
        {
          "output_type": "stream",
          "text": [
            "1 2 3 4 5 6 7 8 9 10 11 12 13 14 15 16 17 18 19 20 21 22 23 24 25 "
          ],
          "name": "stdout"
        }
      ]
    },
    {
      "cell_type": "code",
      "metadata": {
        "id": "VUJ4MnQxOoa5",
        "colab": {
          "base_uri": "https://localhost:8080/"
        },
        "outputId": "e965420b-e1d6-49d8-ebac-b02439386d9e"
      },
      "source": [
        "# Loop condicional\n",
        "resposta = 'S'\n",
        "\n",
        "while resposta == 'S':\n",
        "  peso = float(input(\"Peso (kg): \"))\n",
        "  altura = float(input(\"Altura (m): \"))\n",
        "  imc = peso / altura ** 2\n",
        "  print(\"IMC: %.2f\" % imc)\n",
        "\n",
        "  resposta = input(\"Deseja continuar (S/N)? \").upper().strip()"
      ],
      "execution_count": 68,
      "outputs": [
        {
          "output_type": "stream",
          "text": [
            "Peso (kg): 94\n",
            "Altura (m): 1.83\n",
            "IMC: 28.07\n",
            "Deseja continuar (S/N)? s\n",
            "Peso (kg): 93\n",
            "Altura (m): 181\n",
            "IMC: 0.00\n",
            "Deseja continuar (S/N)? n\n"
          ],
          "name": "stdout"
        }
      ]
    },
    {
      "cell_type": "markdown",
      "metadata": {
        "id": "05PfUboKsOkU"
      },
      "source": [
        "## Exercícios"
      ]
    },
    {
      "cell_type": "markdown",
      "metadata": {
        "id": "jrZ6YXn7BmtV"
      },
      "source": [
        "**1 #** Elabore um algoritmo que solicite dois números ao usuário e imprima a soma entre esses números."
      ]
    },
    {
      "cell_type": "code",
      "metadata": {
        "id": "qUiasIEMBm0-",
        "colab": {
          "base_uri": "https://localhost:8080/"
        },
        "outputId": "ff9ea356-86c6-4f5c-9a75-29b0357f6743"
      },
      "source": [
        "n1 = int(input('Digite um numero: '))\n",
        "n2 = int(input('Digite outro numero: '))\n",
        "sum = n1 + n2\n",
        "print(f'A soma dos numeros é = {sum}')"
      ],
      "execution_count": 69,
      "outputs": [
        {
          "output_type": "stream",
          "text": [
            "Digite um numero: 2\n",
            "Digite outro numero: 3\n",
            "A soma dos numeros é = 5\n"
          ],
          "name": "stdout"
        }
      ]
    },
    {
      "cell_type": "markdown",
      "metadata": {
        "id": "2a6kdE5QBm7i"
      },
      "source": [
        "**2 #** Elabore um algoritmo que leia quanto você ganha por hora e o número de horas trabalhadas no mês. Calcule e mostre o total do seu salário no referido mês."
      ]
    },
    {
      "cell_type": "code",
      "metadata": {
        "id": "B_yszOTrBnAI",
        "colab": {
          "base_uri": "https://localhost:8080/"
        },
        "outputId": "0e59a236-31b0-4c96-fc4c-d150cba0abde"
      },
      "source": [
        "ganho_hora = 12\n",
        "horas_mes = 176\n",
        "salario = ganho_hora * horas_mes\n",
        "print(f'Seu salario esse mes foi ${salario:.2f} ')"
      ],
      "execution_count": 70,
      "outputs": [
        {
          "output_type": "stream",
          "text": [
            "Seu salario esse mes foi $2112.00 \n"
          ],
          "name": "stdout"
        }
      ]
    },
    {
      "cell_type": "markdown",
      "metadata": {
        "id": "n-3OoFZuBc9-"
      },
      "source": [
        "**3 #** Elabore um algoritmo que leia um valor e mostre na tela se o valor é positivo ou negativo."
      ]
    },
    {
      "cell_type": "code",
      "metadata": {
        "id": "JKLhNRfWBdI3",
        "colab": {
          "base_uri": "https://localhost:8080/"
        },
        "outputId": "661c5c4d-c15c-4911-8593-fa3603f9d5f0"
      },
      "source": [
        "valor = int(input('Digite um numero: '))\n",
        "if valor >= 0:\n",
        "  print('Positivo')\n",
        "else:\n",
        "  print('Negativo')"
      ],
      "execution_count": 73,
      "outputs": [
        {
          "output_type": "stream",
          "text": [
            "Digite um numero: 3\n",
            "Positivo\n"
          ],
          "name": "stdout"
        }
      ]
    },
    {
      "cell_type": "markdown",
      "metadata": {
        "id": "mnJrAOjdBdc4"
      },
      "source": [
        "**4 #** Elabore um algoritmo que imprima os números ímpares entre 1 e 100. "
      ]
    },
    {
      "cell_type": "code",
      "metadata": {
        "id": "V7Zpcgy9BdjK",
        "colab": {
          "base_uri": "https://localhost:8080/"
        },
        "outputId": "c95b3156-ed77-432d-bac8-7dd1969ff4b3"
      },
      "source": [
        "for n in range(0, 101):\n",
        "  if n % 2 != 0:\n",
        "    print(n, end=' ')\n"
      ],
      "execution_count": 79,
      "outputs": [
        {
          "output_type": "stream",
          "text": [
            "1 3 5 7 9 11 13 15 17 19 21 23 25 27 29 31 33 35 37 39 41 43 45 47 49 51 53 55 57 59 61 63 65 67 69 71 73 75 77 79 81 83 85 87 89 91 93 95 97 99 "
          ],
          "name": "stdout"
        }
      ]
    },
    {
      "cell_type": "markdown",
      "metadata": {
        "id": "CPE3SjP9Bdo5"
      },
      "source": [
        "**5 #** Elabore um algoritmo que imprima a tabuada entre 1 e 10, conforme apresentado na saída."
      ]
    },
    {
      "cell_type": "code",
      "metadata": {
        "id": "LEtk_TfnBdtQ",
        "colab": {
          "base_uri": "https://localhost:8080/"
        },
        "outputId": "1ef02bf1-1082-44a5-fe8d-08323a26e9c5"
      },
      "source": [
        "for a in range (1, 11):\n",
        "  for b in range (1, 11):\n",
        "    print('{0} x {1} = {2}'.format(a, b, a * b))\n",
        "  print"
      ],
      "execution_count": 121,
      "outputs": [
        {
          "output_type": "stream",
          "text": [
            "1 x 1 = 1\n",
            "1 x 2 = 2\n",
            "1 x 3 = 3\n",
            "1 x 4 = 4\n",
            "1 x 5 = 5\n",
            "1 x 6 = 6\n",
            "1 x 7 = 7\n",
            "1 x 8 = 8\n",
            "1 x 9 = 9\n",
            "1 x 10 = 10\n",
            "2 x 1 = 2\n",
            "2 x 2 = 4\n",
            "2 x 3 = 6\n",
            "2 x 4 = 8\n",
            "2 x 5 = 10\n",
            "2 x 6 = 12\n",
            "2 x 7 = 14\n",
            "2 x 8 = 16\n",
            "2 x 9 = 18\n",
            "2 x 10 = 20\n",
            "3 x 1 = 3\n",
            "3 x 2 = 6\n",
            "3 x 3 = 9\n",
            "3 x 4 = 12\n",
            "3 x 5 = 15\n",
            "3 x 6 = 18\n",
            "3 x 7 = 21\n",
            "3 x 8 = 24\n",
            "3 x 9 = 27\n",
            "3 x 10 = 30\n",
            "4 x 1 = 4\n",
            "4 x 2 = 8\n",
            "4 x 3 = 12\n",
            "4 x 4 = 16\n",
            "4 x 5 = 20\n",
            "4 x 6 = 24\n",
            "4 x 7 = 28\n",
            "4 x 8 = 32\n",
            "4 x 9 = 36\n",
            "4 x 10 = 40\n",
            "5 x 1 = 5\n",
            "5 x 2 = 10\n",
            "5 x 3 = 15\n",
            "5 x 4 = 20\n",
            "5 x 5 = 25\n",
            "5 x 6 = 30\n",
            "5 x 7 = 35\n",
            "5 x 8 = 40\n",
            "5 x 9 = 45\n",
            "5 x 10 = 50\n",
            "6 x 1 = 6\n",
            "6 x 2 = 12\n",
            "6 x 3 = 18\n",
            "6 x 4 = 24\n",
            "6 x 5 = 30\n",
            "6 x 6 = 36\n",
            "6 x 7 = 42\n",
            "6 x 8 = 48\n",
            "6 x 9 = 54\n",
            "6 x 10 = 60\n",
            "7 x 1 = 7\n",
            "7 x 2 = 14\n",
            "7 x 3 = 21\n",
            "7 x 4 = 28\n",
            "7 x 5 = 35\n",
            "7 x 6 = 42\n",
            "7 x 7 = 49\n",
            "7 x 8 = 56\n",
            "7 x 9 = 63\n",
            "7 x 10 = 70\n",
            "8 x 1 = 8\n",
            "8 x 2 = 16\n",
            "8 x 3 = 24\n",
            "8 x 4 = 32\n",
            "8 x 5 = 40\n",
            "8 x 6 = 48\n",
            "8 x 7 = 56\n",
            "8 x 8 = 64\n",
            "8 x 9 = 72\n",
            "8 x 10 = 80\n",
            "9 x 1 = 9\n",
            "9 x 2 = 18\n",
            "9 x 3 = 27\n",
            "9 x 4 = 36\n",
            "9 x 5 = 45\n",
            "9 x 6 = 54\n",
            "9 x 7 = 63\n",
            "9 x 8 = 72\n",
            "9 x 9 = 81\n",
            "9 x 10 = 90\n",
            "10 x 1 = 10\n",
            "10 x 2 = 20\n",
            "10 x 3 = 30\n",
            "10 x 4 = 40\n",
            "10 x 5 = 50\n",
            "10 x 6 = 60\n",
            "10 x 7 = 70\n",
            "10 x 8 = 80\n",
            "10 x 9 = 90\n",
            "10 x 10 = 100\n"
          ],
          "name": "stdout"
        }
      ]
    },
    {
      "cell_type": "markdown",
      "metadata": {
        "id": "ZpHaRZ_hsQ1t"
      },
      "source": [
        "**6 #** Elabore um algoritmo que leia um valor representando o gasto realizado por um cliente de um restaurante e imprima o valor total a ser pago, considerando os 10% do garçom."
      ]
    },
    {
      "cell_type": "code",
      "metadata": {
        "id": "JFefwP1osQOr",
        "colab": {
          "base_uri": "https://localhost:8080/"
        },
        "outputId": "6895b454-34a0-4d07-dd36-339bb4b48582"
      },
      "source": [
        "gasto = float(input('Qual o preco da conta? '))\n",
        "gasto_garcom = gasto * 1.1\n",
        "print('O gasto com o acrescimo do garcom foi R${:.2f}.'.format(gasto_garcom))"
      ],
      "execution_count": 114,
      "outputs": [
        {
          "output_type": "stream",
          "text": [
            "Qual o preco da conta? 100\n",
            "O gasto com o acrescimo do garcom foi R$110.00.\n"
          ],
          "name": "stdout"
        }
      ]
    },
    {
      "cell_type": "markdown",
      "metadata": {
        "id": "WoTi45nCsWUD"
      },
      "source": [
        "**7 #** Elabore um algoritmo que leia dois números inteiros e calcule e mostre o resultado das seguintes operações aritméticas: soma, subtração, multiplicação, divisão e resto da divisão. Construa um método para cada operação e faça com que eles devolvam o valor calculado."
      ]
    },
    {
      "cell_type": "code",
      "metadata": {
        "id": "Zr-VGUvPsWdd",
        "colab": {
          "base_uri": "https://localhost:8080/"
        },
        "outputId": "d3ca2ddd-b893-4f8f-8454-7142bdbbffa8"
      },
      "source": [
        "# Método calcula_soma\n",
        "def soma():\n",
        "  n1 = int(input('Digite um numero: '))\n",
        "  n2 = int(input('Digite outro numero: '))\n",
        "  sum = n1 + n2\n",
        "  print(f'A soma dos numeros é = {sum}')\n",
        "soma()"
      ],
      "execution_count": 108,
      "outputs": [
        {
          "output_type": "stream",
          "text": [
            "Digite um numero: 4\n",
            "Digite outro numero: 5\n",
            "A soma dos numeros é = 9\n"
          ],
          "name": "stdout"
        }
      ]
    },
    {
      "cell_type": "code",
      "metadata": {
        "id": "Q0MbHc3h7koJ",
        "colab": {
          "base_uri": "https://localhost:8080/"
        },
        "outputId": "769cfe91-6362-4eca-f434-ca24494f8da3"
      },
      "source": [
        "# Método calcula_subtracao\n",
        "def subtracao():\n",
        "  n1 = int(input('Digite um numero: '))\n",
        "  n2 = int(input('Digite outro numero: '))\n",
        "  sub = n1 - n2\n",
        "  print(f'A subtracao dos numeros é = {sub}')\n",
        "subtracao()"
      ],
      "execution_count": 109,
      "outputs": [
        {
          "output_type": "stream",
          "text": [
            "Digite um numero: 5\n",
            "Digite outro numero: 4\n",
            "A subtracao dos numeros é = 1\n"
          ],
          "name": "stdout"
        }
      ]
    },
    {
      "cell_type": "code",
      "metadata": {
        "id": "yBh45z747kqi",
        "colab": {
          "base_uri": "https://localhost:8080/"
        },
        "outputId": "3bd81991-cd61-473b-fac2-d1e1b18f59e0"
      },
      "source": [
        "# Método calcula_multiplicacao\n",
        "def multiplicacao ():\n",
        "  n1 = int(input('Digite um numero: '))\n",
        "  n2 = int(input('Digite outro numero: '))\n",
        "  mul = n1 * n2\n",
        "  print(f'A multiplicacao dos numeros é = {mul}')\n",
        "multiplicacao()"
      ],
      "execution_count": 111,
      "outputs": [
        {
          "output_type": "stream",
          "text": [
            "Digite um numero: 4\n",
            "Digite outro numero: 5\n",
            "A multiplicacao dos numeros é = 20\n"
          ],
          "name": "stdout"
        }
      ]
    },
    {
      "cell_type": "code",
      "metadata": {
        "id": "cQ231OAS7ktU",
        "colab": {
          "base_uri": "https://localhost:8080/"
        },
        "outputId": "e792e893-5bd3-42d1-f22f-b89d3885c934"
      },
      "source": [
        "# Método calcula_divisao\n",
        "def divisao():\n",
        "  n1 = int(input('Digite um numero: '))\n",
        "  n2 = int(input('Digite outro numero: '))\n",
        "  div = n1 / n2\n",
        "  print(f'A divisao dos numeros é = {div}')\n",
        "divisao()"
      ],
      "execution_count": 113,
      "outputs": [
        {
          "output_type": "stream",
          "text": [
            "Digite um numero: 10\n",
            "Digite outro numero: 5\n",
            "A divisao dos numeros é = 2.0\n"
          ],
          "name": "stdout"
        }
      ]
    },
    {
      "cell_type": "code",
      "metadata": {
        "id": "S8x7yfjX7ySK",
        "colab": {
          "base_uri": "https://localhost:8080/"
        },
        "outputId": "3b7e090d-6cac-4efd-f769-fc3d067423d3"
      },
      "source": [
        "# Método calcula_resto_divisao\n",
        "def RestoDivisao():\n",
        "  n1 = int(input('Digite um numero: '))\n",
        "  n2 = int(input('Digite outro numero: '))\n",
        "  div = n1 % n2\n",
        "  print(f'O resto da \n",
        "  divisao dos numeros é = {div}')\n",
        "RestoDivisao()"
      ],
      "execution_count": 125,
      "outputs": [
        {
          "output_type": "stream",
          "text": [
            "Digite um numero: 2\n",
            "Digite outro numero: 3\n",
            "O resto da divisao dos numeros é = 2\n"
          ],
          "name": "stdout"
        }
      ]
    },
    {
      "cell_type": "code",
      "metadata": {
        "id": "ZBRD02Fa7u7Z",
        "colab": {
          "base_uri": "https://localhost:8080/"
        },
        "outputId": "a6e86e12-a9c2-4be1-9b15-4fe6478546bf"
      },
      "source": [
        "# Aplicação dos métodos\n",
        "soma()\n",
        "subtracao()\n",
        "multiplicacao()\n",
        "divisao()\n",
        "RestoDivisao()\n"
      ],
      "execution_count": 126,
      "outputs": [
        {
          "output_type": "stream",
          "text": [
            "Digite um numero: 3\n",
            "Digite outro numero: 3\n",
            "A soma dos numeros é = 6\n",
            "Digite um numero: 3\n",
            "Digite outro numero: 3\n",
            "A subtracao dos numeros é = 0\n",
            "Digite um numero: 3\n",
            "Digite outro numero: 3\n",
            "A multiplicacao dos numeros é = 9\n",
            "Digite um numero: 3\n",
            "Digite outro numero: 3\n",
            "A divisao dos numeros é = 1.0\n",
            "Digite um numero: 3\n",
            "Digite outro numero: 3\n",
            "O resto da divisao dos numeros é = 0\n"
          ],
          "name": "stdout"
        }
      ]
    },
    {
      "cell_type": "markdown",
      "metadata": {
        "id": "_VhICqnwsWlU"
      },
      "source": [
        "**8 #** Elabore um algoritmo que leia a cotação do dólar, leia um valor em dólares, converta e mostre o valor equivalente em reais. Construa um método para converter e um método para exibir o valor convertido, apresentando os símbolos monetários (R$)."
      ]
    },
    {
      "cell_type": "code",
      "metadata": {
        "id": "lN7giQtwsWqm"
      },
      "source": [
        "# Método converte"
      ],
      "execution_count": null,
      "outputs": []
    },
    {
      "cell_type": "code",
      "metadata": {
        "id": "iEmQXu5176Q3"
      },
      "source": [
        "# Método exibe"
      ],
      "execution_count": null,
      "outputs": []
    },
    {
      "cell_type": "code",
      "metadata": {
        "id": "GO639DK176Tm"
      },
      "source": [
        "# Aplicação dos métodos"
      ],
      "execution_count": null,
      "outputs": []
    },
    {
      "cell_type": "markdown",
      "metadata": {
        "id": "ATLAAvIXsWwd"
      },
      "source": [
        "**9 #** Elabore um algoritmo que solicite um número ao usuário. Caso seja digitado um valor entre 999 e 9999, mostre a mensagem \"*Senha correta!*\"; caso contrário, mostre \"*Senha incorreta!*\"."
      ]
    },
    {
      "cell_type": "code",
      "metadata": {
        "id": "5czUQ9DBsW1t",
        "colab": {
          "base_uri": "https://localhost:8080/"
        },
        "outputId": "1709434c-9f10-4b3b-c376-f0c0e1ef8b00"
      },
      "source": [
        "numero = int(input('Digite um numero: [999 a 9999] '))\n",
        "if numero >= 999 and numero <= 9999:\n",
        "  print('Senha correta!')\n",
        "else:\n",
        "  print('Senha incorreta!')"
      ],
      "execution_count": 98,
      "outputs": [
        {
          "output_type": "stream",
          "text": [
            "Digite um numero: [999 a 9999] 9999\n",
            "Senha correta!\n"
          ],
          "name": "stdout"
        }
      ]
    },
    {
      "cell_type": "markdown",
      "metadata": {
        "id": "rTbUxw-LsdEO"
      },
      "source": [
        "**10 #** Elabore um algoritmo que leia uma quantidade N de valores fornecida pelo usuário e calcule a média desses valores."
      ]
    },
    {
      "cell_type": "code",
      "metadata": {
        "id": "aqlU1KAbtJQd"
      },
      "source": [
        "soma = 0\n",
        "n = int(input('Quantos valores devo apresentar? '))\n",
        "for i in range(n):\n",
        "  media = valor \n",
        "  soma += n "
      ],
      "execution_count": null,
      "outputs": []
    }
  ]
}